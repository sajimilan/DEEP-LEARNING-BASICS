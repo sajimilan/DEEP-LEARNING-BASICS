{
 "cells": [
  {
   "cell_type": "markdown",
   "id": "e81ab08b",
   "metadata": {},
   "source": [
    "# SUNSPOT\n"
   ]
  },
  {
   "cell_type": "code",
   "execution_count": 1,
   "id": "9634e304",
   "metadata": {},
   "outputs": [
    {
     "name": "stdout",
     "output_type": "stream",
     "text": [
      "WARNING:tensorflow:From C:\\Users\\Milan saji\\anaconda3\\Lib\\site-packages\\keras\\src\\losses.py:2976: The name tf.losses.sparse_softmax_cross_entropy is deprecated. Please use tf.compat.v1.losses.sparse_softmax_cross_entropy instead.\n",
      "\n"
     ]
    }
   ],
   "source": [
    "import pandas as pd\n",
    "import numpy as np #deal array\n",
    "from sklearn.preprocessing import MinMaxScaler\n",
    "import tensorflow as tf\n",
    "import matplotlib.pyplot as plt"
   ]
  },
  {
   "cell_type": "code",
   "execution_count": 18,
   "id": "d0b2ea4d",
   "metadata": {},
   "outputs": [],
   "source": [
    "data=pd.read_csv(\"C:/Users/Milan saji/Downloads/Sunspots.csv\",index_col='Date',parse_dates=True)"
   ]
  },
  {
   "cell_type": "code",
   "execution_count": 19,
   "id": "367aba62",
   "metadata": {},
   "outputs": [
    {
     "data": {
      "text/html": [
       "<div>\n",
       "<style scoped>\n",
       "    .dataframe tbody tr th:only-of-type {\n",
       "        vertical-align: middle;\n",
       "    }\n",
       "\n",
       "    .dataframe tbody tr th {\n",
       "        vertical-align: top;\n",
       "    }\n",
       "\n",
       "    .dataframe thead th {\n",
       "        text-align: right;\n",
       "    }\n",
       "</style>\n",
       "<table border=\"1\" class=\"dataframe\">\n",
       "  <thead>\n",
       "    <tr style=\"text-align: right;\">\n",
       "      <th></th>\n",
       "      <th>Unnamed: 0</th>\n",
       "      <th>Monthly Mean Total Sunspot Number</th>\n",
       "    </tr>\n",
       "    <tr>\n",
       "      <th>Date</th>\n",
       "      <th></th>\n",
       "      <th></th>\n",
       "    </tr>\n",
       "  </thead>\n",
       "  <tbody>\n",
       "    <tr>\n",
       "      <th>1749-01-31</th>\n",
       "      <td>0</td>\n",
       "      <td>96.7</td>\n",
       "    </tr>\n",
       "    <tr>\n",
       "      <th>1749-02-28</th>\n",
       "      <td>1</td>\n",
       "      <td>104.3</td>\n",
       "    </tr>\n",
       "    <tr>\n",
       "      <th>1749-03-31</th>\n",
       "      <td>2</td>\n",
       "      <td>116.7</td>\n",
       "    </tr>\n",
       "    <tr>\n",
       "      <th>1749-04-30</th>\n",
       "      <td>3</td>\n",
       "      <td>92.8</td>\n",
       "    </tr>\n",
       "    <tr>\n",
       "      <th>1749-05-31</th>\n",
       "      <td>4</td>\n",
       "      <td>141.7</td>\n",
       "    </tr>\n",
       "    <tr>\n",
       "      <th>...</th>\n",
       "      <td>...</td>\n",
       "      <td>...</td>\n",
       "    </tr>\n",
       "    <tr>\n",
       "      <th>2020-09-30</th>\n",
       "      <td>3260</td>\n",
       "      <td>0.6</td>\n",
       "    </tr>\n",
       "    <tr>\n",
       "      <th>2020-10-31</th>\n",
       "      <td>3261</td>\n",
       "      <td>14.4</td>\n",
       "    </tr>\n",
       "    <tr>\n",
       "      <th>2020-11-30</th>\n",
       "      <td>3262</td>\n",
       "      <td>34.0</td>\n",
       "    </tr>\n",
       "    <tr>\n",
       "      <th>2020-12-31</th>\n",
       "      <td>3263</td>\n",
       "      <td>21.8</td>\n",
       "    </tr>\n",
       "    <tr>\n",
       "      <th>2021-01-31</th>\n",
       "      <td>3264</td>\n",
       "      <td>10.4</td>\n",
       "    </tr>\n",
       "  </tbody>\n",
       "</table>\n",
       "<p>3265 rows × 2 columns</p>\n",
       "</div>"
      ],
      "text/plain": [
       "            Unnamed: 0  Monthly Mean Total Sunspot Number\n",
       "Date                                                     \n",
       "1749-01-31           0                               96.7\n",
       "1749-02-28           1                              104.3\n",
       "1749-03-31           2                              116.7\n",
       "1749-04-30           3                               92.8\n",
       "1749-05-31           4                              141.7\n",
       "...                ...                                ...\n",
       "2020-09-30        3260                                0.6\n",
       "2020-10-31        3261                               14.4\n",
       "2020-11-30        3262                               34.0\n",
       "2020-12-31        3263                               21.8\n",
       "2021-01-31        3264                               10.4\n",
       "\n",
       "[3265 rows x 2 columns]"
      ]
     },
     "execution_count": 19,
     "metadata": {},
     "output_type": "execute_result"
    }
   ],
   "source": [
    "data"
   ]
  },
  {
   "cell_type": "code",
   "execution_count": 20,
   "id": "d44cab6d",
   "metadata": {},
   "outputs": [
    {
     "data": {
      "text/html": [
       "<div>\n",
       "<style scoped>\n",
       "    .dataframe tbody tr th:only-of-type {\n",
       "        vertical-align: middle;\n",
       "    }\n",
       "\n",
       "    .dataframe tbody tr th {\n",
       "        vertical-align: top;\n",
       "    }\n",
       "\n",
       "    .dataframe thead th {\n",
       "        text-align: right;\n",
       "    }\n",
       "</style>\n",
       "<table border=\"1\" class=\"dataframe\">\n",
       "  <thead>\n",
       "    <tr style=\"text-align: right;\">\n",
       "      <th></th>\n",
       "      <th>Unnamed: 0</th>\n",
       "      <th>Monthly Mean Total Sunspot Number</th>\n",
       "    </tr>\n",
       "    <tr>\n",
       "      <th>Date</th>\n",
       "      <th></th>\n",
       "      <th></th>\n",
       "    </tr>\n",
       "  </thead>\n",
       "  <tbody>\n",
       "    <tr>\n",
       "      <th>1749-01-31</th>\n",
       "      <td>0</td>\n",
       "      <td>96.7</td>\n",
       "    </tr>\n",
       "    <tr>\n",
       "      <th>1749-02-28</th>\n",
       "      <td>1</td>\n",
       "      <td>104.3</td>\n",
       "    </tr>\n",
       "    <tr>\n",
       "      <th>1749-03-31</th>\n",
       "      <td>2</td>\n",
       "      <td>116.7</td>\n",
       "    </tr>\n",
       "    <tr>\n",
       "      <th>1749-04-30</th>\n",
       "      <td>3</td>\n",
       "      <td>92.8</td>\n",
       "    </tr>\n",
       "    <tr>\n",
       "      <th>1749-05-31</th>\n",
       "      <td>4</td>\n",
       "      <td>141.7</td>\n",
       "    </tr>\n",
       "    <tr>\n",
       "      <th>1749-06-30</th>\n",
       "      <td>5</td>\n",
       "      <td>139.2</td>\n",
       "    </tr>\n",
       "    <tr>\n",
       "      <th>1749-07-31</th>\n",
       "      <td>6</td>\n",
       "      <td>158.0</td>\n",
       "    </tr>\n",
       "    <tr>\n",
       "      <th>1749-08-31</th>\n",
       "      <td>7</td>\n",
       "      <td>110.5</td>\n",
       "    </tr>\n",
       "    <tr>\n",
       "      <th>1749-09-30</th>\n",
       "      <td>8</td>\n",
       "      <td>126.5</td>\n",
       "    </tr>\n",
       "    <tr>\n",
       "      <th>1749-10-31</th>\n",
       "      <td>9</td>\n",
       "      <td>125.8</td>\n",
       "    </tr>\n",
       "  </tbody>\n",
       "</table>\n",
       "</div>"
      ],
      "text/plain": [
       "            Unnamed: 0  Monthly Mean Total Sunspot Number\n",
       "Date                                                     \n",
       "1749-01-31           0                               96.7\n",
       "1749-02-28           1                              104.3\n",
       "1749-03-31           2                              116.7\n",
       "1749-04-30           3                               92.8\n",
       "1749-05-31           4                              141.7\n",
       "1749-06-30           5                              139.2\n",
       "1749-07-31           6                              158.0\n",
       "1749-08-31           7                              110.5\n",
       "1749-09-30           8                              126.5\n",
       "1749-10-31           9                              125.8"
      ]
     },
     "execution_count": 20,
     "metadata": {},
     "output_type": "execute_result"
    }
   ],
   "source": [
    "data.head(10)"
   ]
  },
  {
   "cell_type": "code",
   "execution_count": 21,
   "id": "fce7c051",
   "metadata": {},
   "outputs": [
    {
     "data": {
      "text/html": [
       "<div>\n",
       "<style scoped>\n",
       "    .dataframe tbody tr th:only-of-type {\n",
       "        vertical-align: middle;\n",
       "    }\n",
       "\n",
       "    .dataframe tbody tr th {\n",
       "        vertical-align: top;\n",
       "    }\n",
       "\n",
       "    .dataframe thead th {\n",
       "        text-align: right;\n",
       "    }\n",
       "</style>\n",
       "<table border=\"1\" class=\"dataframe\">\n",
       "  <thead>\n",
       "    <tr style=\"text-align: right;\">\n",
       "      <th></th>\n",
       "      <th>Unnamed: 0</th>\n",
       "      <th>Monthly Mean Total Sunspot Number</th>\n",
       "    </tr>\n",
       "    <tr>\n",
       "      <th>Date</th>\n",
       "      <th></th>\n",
       "      <th></th>\n",
       "    </tr>\n",
       "  </thead>\n",
       "  <tbody>\n",
       "    <tr>\n",
       "      <th>2020-04-30</th>\n",
       "      <td>3255</td>\n",
       "      <td>5.2</td>\n",
       "    </tr>\n",
       "    <tr>\n",
       "      <th>2020-05-31</th>\n",
       "      <td>3256</td>\n",
       "      <td>0.2</td>\n",
       "    </tr>\n",
       "    <tr>\n",
       "      <th>2020-06-30</th>\n",
       "      <td>3257</td>\n",
       "      <td>5.8</td>\n",
       "    </tr>\n",
       "    <tr>\n",
       "      <th>2020-07-31</th>\n",
       "      <td>3258</td>\n",
       "      <td>6.1</td>\n",
       "    </tr>\n",
       "    <tr>\n",
       "      <th>2020-08-31</th>\n",
       "      <td>3259</td>\n",
       "      <td>7.5</td>\n",
       "    </tr>\n",
       "    <tr>\n",
       "      <th>2020-09-30</th>\n",
       "      <td>3260</td>\n",
       "      <td>0.6</td>\n",
       "    </tr>\n",
       "    <tr>\n",
       "      <th>2020-10-31</th>\n",
       "      <td>3261</td>\n",
       "      <td>14.4</td>\n",
       "    </tr>\n",
       "    <tr>\n",
       "      <th>2020-11-30</th>\n",
       "      <td>3262</td>\n",
       "      <td>34.0</td>\n",
       "    </tr>\n",
       "    <tr>\n",
       "      <th>2020-12-31</th>\n",
       "      <td>3263</td>\n",
       "      <td>21.8</td>\n",
       "    </tr>\n",
       "    <tr>\n",
       "      <th>2021-01-31</th>\n",
       "      <td>3264</td>\n",
       "      <td>10.4</td>\n",
       "    </tr>\n",
       "  </tbody>\n",
       "</table>\n",
       "</div>"
      ],
      "text/plain": [
       "            Unnamed: 0  Monthly Mean Total Sunspot Number\n",
       "Date                                                     \n",
       "2020-04-30        3255                                5.2\n",
       "2020-05-31        3256                                0.2\n",
       "2020-06-30        3257                                5.8\n",
       "2020-07-31        3258                                6.1\n",
       "2020-08-31        3259                                7.5\n",
       "2020-09-30        3260                                0.6\n",
       "2020-10-31        3261                               14.4\n",
       "2020-11-30        3262                               34.0\n",
       "2020-12-31        3263                               21.8\n",
       "2021-01-31        3264                               10.4"
      ]
     },
     "execution_count": 21,
     "metadata": {},
     "output_type": "execute_result"
    }
   ],
   "source": [
    "data.tail(10)"
   ]
  },
  {
   "cell_type": "code",
   "execution_count": 22,
   "id": "e275ec2e",
   "metadata": {},
   "outputs": [
    {
     "data": {
      "text/plain": [
       "(3265, 2)"
      ]
     },
     "execution_count": 22,
     "metadata": {},
     "output_type": "execute_result"
    }
   ],
   "source": [
    "data.shape"
   ]
  },
  {
   "cell_type": "code",
   "execution_count": 23,
   "id": "e45865c1",
   "metadata": {},
   "outputs": [
    {
     "data": {
      "text/plain": [
       "Unnamed: 0                           3265\n",
       "Monthly Mean Total Sunspot Number    1599\n",
       "dtype: int64"
      ]
     },
     "execution_count": 23,
     "metadata": {},
     "output_type": "execute_result"
    }
   ],
   "source": [
    "data.nunique()"
   ]
  },
  {
   "cell_type": "code",
   "execution_count": 24,
   "id": "9fce1455",
   "metadata": {},
   "outputs": [],
   "source": [
    "#scale to 0 nd 1\n",
    "Scaler=MinMaxScaler(feature_range=(0,1))\n"
   ]
  },
  {
   "cell_type": "code",
   "execution_count": 26,
   "id": "e314f9e3",
   "metadata": {},
   "outputs": [],
   "source": [
    "#transform data\n",
    "data=Scaler.fit_transform(data).flatten()"
   ]
  },
  {
   "cell_type": "code",
   "execution_count": 27,
   "id": "f074ab51",
   "metadata": {},
   "outputs": [
    {
     "data": {
      "text/plain": [
       "array([0.00000000e+00, 2.42842793e-01, 3.06372549e-04, ...,\n",
       "       5.47463586e-02, 1.00000000e+00, 2.61175289e-02])"
      ]
     },
     "execution_count": 27,
     "metadata": {},
     "output_type": "execute_result"
    }
   ],
   "source": [
    "data"
   ]
  },
  {
   "cell_type": "code",
   "execution_count": 28,
   "id": "9a39c174",
   "metadata": {},
   "outputs": [],
   "source": [
    "#transformed is splitted\n",
    "train=data[:2500]\n",
    "test=data[2500:]"
   ]
  },
  {
   "cell_type": "code",
   "execution_count": 29,
   "id": "244182e4",
   "metadata": {},
   "outputs": [
    {
     "data": {
      "text/plain": [
       "array([0.00000000e+00, 2.42842793e-01, 3.06372549e-04, ...,\n",
       "       1.95630337e-01, 3.82659314e-01, 2.04671020e-01])"
      ]
     },
     "execution_count": 29,
     "metadata": {},
     "output_type": "execute_result"
    }
   ],
   "source": [
    "train"
   ]
  },
  {
   "cell_type": "code",
   "execution_count": 30,
   "id": "d58bccd2",
   "metadata": {},
   "outputs": [
    {
     "data": {
      "text/plain": [
       "array([0.38296569, 0.17980914, 0.38327206, ..., 0.05474636, 1.        ,\n",
       "       0.02611753])"
      ]
     },
     "execution_count": 30,
     "metadata": {},
     "output_type": "execute_result"
    }
   ],
   "source": [
    "test\n"
   ]
  },
  {
   "cell_type": "code",
   "execution_count": 32,
   "id": "4644eb4a",
   "metadata": {},
   "outputs": [],
   "source": [
    "#going to create time series generator, there is input and features\n",
    "from keras.preprocessing.sequence import TimeseriesGenerator\n"
   ]
  },
  {
   "cell_type": "code",
   "execution_count": 180,
   "id": "213857b3",
   "metadata": {},
   "outputs": [],
   "source": [
    "#input can be any\n",
    "n_input=7\n",
    "n_features=1\n",
    "generatortrain=TimeseriesGenerator(train,train,length=n_input,batch_size=1)\n",
    "generatortest=TimeseriesGenerator(test,test,length=n_input,batch_size=1)\n"
   ]
  },
  {
   "cell_type": "code",
   "execution_count": 181,
   "id": "41faf53a",
   "metadata": {},
   "outputs": [
    {
     "data": {
      "text/plain": [
       "(array([[0.37879306, 0.40001978, 0.43746048, 0.41583516, 0.41583516,\n",
       "         0.39645907, 0.44251869]]),\n",
       " array([0.39396528]))"
      ]
     },
     "execution_count": 181,
     "metadata": {},
     "output_type": "execute_result"
    }
   ],
   "source": [
    "#give answer\n",
    "generatortrain[20]"
   ]
  },
  {
   "cell_type": "code",
   "execution_count": 182,
   "id": "4632ab40",
   "metadata": {},
   "outputs": [
    {
     "data": {
      "text/plain": [
       "(array([[0.09916621, 0.09973295, 0.12824041, 0.09814106, 0.09814106,\n",
       "         0.10082094, 0.13147618]]),\n",
       " array([0.10148989]))"
      ]
     },
     "execution_count": 182,
     "metadata": {},
     "output_type": "execute_result"
    }
   ],
   "source": [
    "generatortest[2800]\n",
    "#model is made"
   ]
  },
  {
   "cell_type": "code",
   "execution_count": 183,
   "id": "bfbb0d3c",
   "metadata": {},
   "outputs": [],
   "source": [
    "#making sequential model using simprnn,lstm,gru(imporrt)\n",
    "from keras.models import Sequential\n",
    "from tensorflow.keras.layers import SimpleRNN,LSTM,GRU,Dense\n",
    "import math\n"
   ]
  },
  {
   "cell_type": "code",
   "execution_count": 184,
   "id": "c6ef5500",
   "metadata": {},
   "outputs": [],
   "source": [
    "#tanh in time series,\n",
    "model=Sequential()\n",
    "model.add(SimpleRNN(units=100,input_shape=(n_input,n_features),activation='tanh'))\n",
    "model.add(Dense(units=5,activation='tanh'))\n"
   ]
  },
  {
   "cell_type": "code",
   "execution_count": 185,
   "id": "5b6ff3b3",
   "metadata": {},
   "outputs": [
    {
     "name": "stdout",
     "output_type": "stream",
     "text": [
      "Model: \"sequential_14\"\n",
      "_________________________________________________________________\n",
      " Layer (type)                Output Shape              Param #   \n",
      "=================================================================\n",
      " simple_rnn_11 (SimpleRNN)   (None, 100)               10200     \n",
      "                                                                 \n",
      " dense_12 (Dense)            (None, 5)                 505       \n",
      "                                                                 \n",
      "=================================================================\n",
      "Total params: 10705 (41.82 KB)\n",
      "Trainable params: 10705 (41.82 KB)\n",
      "Non-trainable params: 0 (0.00 Byte)\n",
      "_________________________________________________________________\n"
     ]
    }
   ],
   "source": [
    "model.summary()\n"
   ]
  },
  {
   "cell_type": "code",
   "execution_count": 186,
   "id": "50054768",
   "metadata": {},
   "outputs": [],
   "source": [
    "\n",
    "model.compile(loss='mean_squared_error',optimizer='adam',metrics=['accuracy'])"
   ]
  },
  {
   "cell_type": "code",
   "execution_count": 187,
   "id": "691df7d2",
   "metadata": {},
   "outputs": [
    {
     "name": "stdout",
     "output_type": "stream",
     "text": [
      "Epoch 1/2\n",
      "2493/2493 [==============================] - 15s 5ms/step - loss: 9.4786e-04 - accuracy: 0.0000e+00\n",
      "Epoch 2/2\n",
      "2493/2493 [==============================] - 13s 5ms/step - loss: 5.4811e-04 - accuracy: 0.0000e+00\n"
     ]
    },
    {
     "data": {
      "text/plain": [
       "<keras.src.callbacks.History at 0x2cc1b6329d0>"
      ]
     },
     "execution_count": 187,
     "metadata": {},
     "output_type": "execute_result"
    }
   ],
   "source": [
    "model.fit(generatortrain,epochs=2)\n",
    "#y=output(class/labl)"
   ]
  },
  {
   "cell_type": "code",
   "execution_count": 188,
   "id": "8a312a7c",
   "metadata": {},
   "outputs": [
    {
     "name": "stdout",
     "output_type": "stream",
     "text": [
      "8569/8569 [==============================] - 45s 5ms/step - loss: 3.5245e-04 - accuracy: 0.0000e+00\n"
     ]
    },
    {
     "data": {
      "text/plain": [
       "[0.0003524456697050482, 0.0]"
      ]
     },
     "execution_count": 188,
     "metadata": {},
     "output_type": "execute_result"
    }
   ],
   "source": [
    "model.evaluate(generatortest)"
   ]
  },
  {
   "cell_type": "code",
   "execution_count": 78,
   "id": "aa408de3",
   "metadata": {},
   "outputs": [
    {
     "name": "stdout",
     "output_type": "stream",
     "text": [
      "4023/4023 [==============================] - 17s 4ms/step\n"
     ]
    },
    {
     "data": {
      "text/plain": [
       "array([[ 0.14768904,  0.13445236,  0.16144097,  0.14613344,  0.15519193],\n",
       "       [ 0.39888987,  0.40878934,  0.38750172,  0.39768812,  0.3972009 ],\n",
       "       [ 0.16188821,  0.15263303,  0.17251329,  0.16061504,  0.17106614],\n",
       "       ...,\n",
       "       [-0.08165245, -0.12442166, -0.01077398, -0.07396775, -0.04364377],\n",
       "       [ 0.7779354 ,  0.7947144 ,  0.76021904,  0.775064  ,  0.7722635 ],\n",
       "       [-0.09159589, -0.13405135, -0.01882803, -0.08607635, -0.05473014]],\n",
       "      dtype=float32)"
      ]
     },
     "execution_count": 78,
     "metadata": {},
     "output_type": "execute_result"
    }
   ],
   "source": [
    "model.predict(generatortest)"
   ]
  },
  {
   "cell_type": "markdown",
   "id": "243e4e6c",
   "metadata": {},
   "source": [
    "# USING NIFTY"
   ]
  },
  {
   "cell_type": "code",
   "execution_count": 135,
   "id": "bdcc2371",
   "metadata": {},
   "outputs": [],
   "source": [
    "import pandas as pd\n",
    "import numpy as np #deal array\n",
    "from sklearn.preprocessing import MinMaxScaler\n",
    "import tensorflow as tf\n",
    "import matplotlib.pyplot as plt"
   ]
  },
  {
   "cell_type": "code",
   "execution_count": 136,
   "id": "f5d9348e",
   "metadata": {},
   "outputs": [],
   "source": [
    "data=pd.read_csv(\"C:/Users/Milan saji/Downloads/NIFTY.csv\",index_col='Date',parse_dates=True)"
   ]
  },
  {
   "cell_type": "code",
   "execution_count": 137,
   "id": "cee5a989",
   "metadata": {},
   "outputs": [
    {
     "data": {
      "text/html": [
       "<div>\n",
       "<style scoped>\n",
       "    .dataframe tbody tr th:only-of-type {\n",
       "        vertical-align: middle;\n",
       "    }\n",
       "\n",
       "    .dataframe tbody tr th {\n",
       "        vertical-align: top;\n",
       "    }\n",
       "\n",
       "    .dataframe thead th {\n",
       "        text-align: right;\n",
       "    }\n",
       "</style>\n",
       "<table border=\"1\" class=\"dataframe\">\n",
       "  <thead>\n",
       "    <tr style=\"text-align: right;\">\n",
       "      <th></th>\n",
       "      <th>Open</th>\n",
       "      <th>High</th>\n",
       "      <th>Low</th>\n",
       "      <th>Turnover</th>\n",
       "    </tr>\n",
       "    <tr>\n",
       "      <th>Date</th>\n",
       "      <th></th>\n",
       "      <th></th>\n",
       "      <th></th>\n",
       "      <th></th>\n",
       "    </tr>\n",
       "  </thead>\n",
       "  <tbody>\n",
       "    <tr>\n",
       "      <th>02-03-2009</th>\n",
       "      <td>43.1900</td>\n",
       "      <td>43.380</td>\n",
       "      <td>41.4400</td>\n",
       "      <td>43.1700</td>\n",
       "    </tr>\n",
       "    <tr>\n",
       "      <th>03-03-2009</th>\n",
       "      <td>43.1700</td>\n",
       "      <td>43.900</td>\n",
       "      <td>41.2000</td>\n",
       "      <td>43.8900</td>\n",
       "    </tr>\n",
       "    <tr>\n",
       "      <th>04-03-2009</th>\n",
       "      <td>43.8900</td>\n",
       "      <td>43.890</td>\n",
       "      <td>42.1600</td>\n",
       "      <td>42.5200</td>\n",
       "    </tr>\n",
       "    <tr>\n",
       "      <th>05-03-2009</th>\n",
       "      <td>42.5200</td>\n",
       "      <td>42.710</td>\n",
       "      <td>40.4100</td>\n",
       "      <td>41.4900</td>\n",
       "    </tr>\n",
       "    <tr>\n",
       "      <th>06-03-2009</th>\n",
       "      <td>41.4900</td>\n",
       "      <td>41.490</td>\n",
       "      <td>37.5700</td>\n",
       "      <td>38.1600</td>\n",
       "    </tr>\n",
       "    <tr>\n",
       "      <th>...</th>\n",
       "      <td>...</td>\n",
       "      <td>...</td>\n",
       "      <td>...</td>\n",
       "      <td>...</td>\n",
       "    </tr>\n",
       "    <tr>\n",
       "      <th>04-05-2020</th>\n",
       "      <td>33.9875</td>\n",
       "      <td>43.920</td>\n",
       "      <td>33.9875</td>\n",
       "      <td>43.6700</td>\n",
       "    </tr>\n",
       "    <tr>\n",
       "      <th>05-05-2020</th>\n",
       "      <td>43.6700</td>\n",
       "      <td>43.865</td>\n",
       "      <td>38.1475</td>\n",
       "      <td>43.6075</td>\n",
       "    </tr>\n",
       "    <tr>\n",
       "      <th>06-05-2020</th>\n",
       "      <td>43.6075</td>\n",
       "      <td>43.630</td>\n",
       "      <td>40.1975</td>\n",
       "      <td>41.2475</td>\n",
       "    </tr>\n",
       "    <tr>\n",
       "      <th>07-05-2020</th>\n",
       "      <td>41.2475</td>\n",
       "      <td>41.715</td>\n",
       "      <td>39.6575</td>\n",
       "      <td>39.9300</td>\n",
       "    </tr>\n",
       "    <tr>\n",
       "      <th>08-05-2020</th>\n",
       "      <td>39.9300</td>\n",
       "      <td>39.930</td>\n",
       "      <td>36.5475</td>\n",
       "      <td>38.4075</td>\n",
       "    </tr>\n",
       "  </tbody>\n",
       "</table>\n",
       "<p>2769 rows × 4 columns</p>\n",
       "</div>"
      ],
      "text/plain": [
       "               Open    High      Low  Turnover\n",
       "Date                                          \n",
       "02-03-2009  43.1900  43.380  41.4400   43.1700\n",
       "03-03-2009  43.1700  43.900  41.2000   43.8900\n",
       "04-03-2009  43.8900  43.890  42.1600   42.5200\n",
       "05-03-2009  42.5200  42.710  40.4100   41.4900\n",
       "06-03-2009  41.4900  41.490  37.5700   38.1600\n",
       "...             ...     ...      ...       ...\n",
       "04-05-2020  33.9875  43.920  33.9875   43.6700\n",
       "05-05-2020  43.6700  43.865  38.1475   43.6075\n",
       "06-05-2020  43.6075  43.630  40.1975   41.2475\n",
       "07-05-2020  41.2475  41.715  39.6575   39.9300\n",
       "08-05-2020  39.9300  39.930  36.5475   38.4075\n",
       "\n",
       "[2769 rows x 4 columns]"
      ]
     },
     "execution_count": 137,
     "metadata": {},
     "output_type": "execute_result"
    }
   ],
   "source": [
    "data"
   ]
  },
  {
   "cell_type": "code",
   "execution_count": 138,
   "id": "66447f9a",
   "metadata": {},
   "outputs": [],
   "source": [
    "#scale to 0 nd 1\n",
    "Scaler=MinMaxScaler(feature_range=(0,1))\n"
   ]
  },
  {
   "cell_type": "code",
   "execution_count": 139,
   "id": "f3c387c2",
   "metadata": {},
   "outputs": [],
   "source": [
    "#transform data ,in nifty we no need to flatten\n",
    "data=Scaler.fit_transform(data).flatten()"
   ]
  },
  {
   "cell_type": "code",
   "execution_count": 140,
   "id": "20a41c78",
   "metadata": {},
   "outputs": [],
   "source": [
    "#transformed is splitted\n",
    "train=data[:2500]\n",
    "test=data[2500:]"
   ]
  },
  {
   "cell_type": "code",
   "execution_count": 141,
   "id": "72efb62a",
   "metadata": {},
   "outputs": [
    {
     "data": {
      "text/plain": [
       "array([0.44754647, 0.42956052, 0.4862573 , ..., 0.2597013 , 0.26860565,\n",
       "       0.24894068])"
      ]
     },
     "execution_count": 141,
     "metadata": {},
     "output_type": "execute_result"
    }
   ],
   "source": [
    "train"
   ]
  },
  {
   "cell_type": "code",
   "execution_count": 142,
   "id": "f9832edd",
   "metadata": {},
   "outputs": [
    {
     "data": {
      "text/plain": [
       "array([0.24894068, 0.23688635, 0.27738312, ..., 0.38406251, 0.41347119,\n",
       "       0.38217605])"
      ]
     },
     "execution_count": 142,
     "metadata": {},
     "output_type": "execute_result"
    }
   ],
   "source": [
    "test"
   ]
  },
  {
   "cell_type": "code",
   "execution_count": 143,
   "id": "a844e0f8",
   "metadata": {},
   "outputs": [],
   "source": [
    "#going to create time series generator, there is input and features\n",
    "from keras.preprocessing.sequence import TimeseriesGenerator\n"
   ]
  },
  {
   "cell_type": "code",
   "execution_count": 144,
   "id": "29d8ac30",
   "metadata": {},
   "outputs": [],
   "source": [
    "#input can be any\n",
    "n_input=7\n",
    "n_features=1\n",
    "generatortrain=TimeseriesGenerator(train,train,length=n_input,batch_size=1)\n",
    "generatortest=TimeseriesGenerator(test,test,length=n_input,batch_size=1)\n"
   ]
  },
  {
   "cell_type": "code",
   "execution_count": 145,
   "id": "677a6f58",
   "metadata": {},
   "outputs": [
    {
     "data": {
      "text/plain": [
       "(array([[0.37879306, 0.40001978, 0.43746048, 0.41583516, 0.41583516,\n",
       "         0.39645907, 0.44251869]]),\n",
       " array([0.39396528]))"
      ]
     },
     "execution_count": 145,
     "metadata": {},
     "output_type": "execute_result"
    }
   ],
   "source": [
    "#give answer\n",
    "generatortrain[20]"
   ]
  },
  {
   "cell_type": "code",
   "execution_count": 146,
   "id": "ed479ece",
   "metadata": {},
   "outputs": [
    {
     "data": {
      "text/plain": [
       "(array([[0.09916621, 0.09973295, 0.12824041, 0.09814106, 0.09814106,\n",
       "         0.10082094, 0.13147618]]),\n",
       " array([0.10148989]))"
      ]
     },
     "execution_count": 146,
     "metadata": {},
     "output_type": "execute_result"
    }
   ],
   "source": [
    "generatortest[2800]\n",
    "#model is made"
   ]
  },
  {
   "cell_type": "code",
   "execution_count": 147,
   "id": "73268ca5",
   "metadata": {},
   "outputs": [],
   "source": [
    "#making sequential model using simprnn,lstm,gru(imporrt)\n",
    "from keras.models import Sequential\n",
    "from tensorflow.keras.layers import SimpleRNN,LSTM,GRU,Dense\n",
    "import math\n"
   ]
  },
  {
   "cell_type": "code",
   "execution_count": 148,
   "id": "c259037c",
   "metadata": {},
   "outputs": [],
   "source": [
    "#tanh in time series,\n",
    "model=Sequential()\n",
    "model.add(SimpleRNN(units=100,input_shape=(n_input,n_features),activation='tanh'))\n",
    "model.add(Dense(units=5,activation='tanh'))\n"
   ]
  },
  {
   "cell_type": "code",
   "execution_count": 149,
   "id": "5e240f56",
   "metadata": {},
   "outputs": [
    {
     "name": "stdout",
     "output_type": "stream",
     "text": [
      "Model: \"sequential_9\"\n",
      "_________________________________________________________________\n",
      " Layer (type)                Output Shape              Param #   \n",
      "=================================================================\n",
      " simple_rnn_9 (SimpleRNN)    (None, 100)               10200     \n",
      "                                                                 \n",
      " dense_7 (Dense)             (None, 5)                 505       \n",
      "                                                                 \n",
      "=================================================================\n",
      "Total params: 10705 (41.82 KB)\n",
      "Trainable params: 10705 (41.82 KB)\n",
      "Non-trainable params: 0 (0.00 Byte)\n",
      "_________________________________________________________________\n"
     ]
    }
   ],
   "source": [
    "model.summary()\n"
   ]
  },
  {
   "cell_type": "code",
   "execution_count": 150,
   "id": "5cb2d8c4",
   "metadata": {},
   "outputs": [],
   "source": [
    "\n",
    "model.compile(loss='mean_squared_error',optimizer='adam',metrics=['accuracy'])"
   ]
  },
  {
   "cell_type": "code",
   "execution_count": 151,
   "id": "3ff23ee5",
   "metadata": {},
   "outputs": [
    {
     "name": "stdout",
     "output_type": "stream",
     "text": [
      "Epoch 1/2\n",
      "2493/2493 [==============================] - 14s 5ms/step - loss: 8.2637e-04 - accuracy: 0.0000e+00\n",
      "Epoch 2/2\n",
      "2493/2493 [==============================] - 12s 5ms/step - loss: 5.6841e-04 - accuracy: 0.0000e+00\n"
     ]
    },
    {
     "data": {
      "text/plain": [
       "<keras.src.callbacks.History at 0x2cc12e04890>"
      ]
     },
     "execution_count": 151,
     "metadata": {},
     "output_type": "execute_result"
    }
   ],
   "source": [
    "model.fit(generatortrain,epochs=2)\n",
    "#y=output(class/labl)"
   ]
  },
  {
   "cell_type": "code",
   "execution_count": 152,
   "id": "c945d625",
   "metadata": {},
   "outputs": [
    {
     "name": "stdout",
     "output_type": "stream",
     "text": [
      "8569/8569 [==============================] - 37s 4ms/step - loss: 6.3679e-04 - accuracy: 2.3340e-04\n"
     ]
    },
    {
     "data": {
      "text/plain": [
       "[0.0006367852329276502, 0.00023339946346823126]"
      ]
     },
     "execution_count": 152,
     "metadata": {},
     "output_type": "execute_result"
    }
   ],
   "source": [
    "model.evaluate(generatortest)"
   ]
  },
  {
   "cell_type": "code",
   "execution_count": 153,
   "id": "d7ff8115",
   "metadata": {},
   "outputs": [
    {
     "name": "stdout",
     "output_type": "stream",
     "text": [
      "8569/8569 [==============================] - 36s 4ms/step\n"
     ]
    },
    {
     "data": {
      "text/plain": [
       "array([[0.25110695, 0.25386623, 0.2506259 , 0.2508194 , 0.25359833],\n",
       "       [0.23805258, 0.23885371, 0.2395021 , 0.23725116, 0.24093722],\n",
       "       [0.2512638 , 0.2522264 , 0.25077972, 0.249917  , 0.2520697 ],\n",
       "       ...,\n",
       "       [0.42527884, 0.42659196, 0.42374957, 0.42213768, 0.42653722],\n",
       "       [0.4295734 , 0.42861176, 0.42994443, 0.42843488, 0.4298995 ],\n",
       "       [0.40036464, 0.40364355, 0.3987026 , 0.398431  , 0.40327403]],\n",
       "      dtype=float32)"
      ]
     },
     "execution_count": 153,
     "metadata": {},
     "output_type": "execute_result"
    }
   ],
   "source": [
    "model.predict(generatortest)"
   ]
  },
  {
   "cell_type": "markdown",
   "id": "676a72a5",
   "metadata": {},
   "source": [
    "# USING LSTM\n"
   ]
  },
  {
   "cell_type": "code",
   "execution_count": 155,
   "id": "4664fe2a",
   "metadata": {},
   "outputs": [],
   "source": [
    "#tanh in time series,\n",
    "model=Sequential()\n",
    "model.add(LSTM(units=100,input_shape=(n_input,n_features),activation='tanh'))\n",
    "model.add(Dense(units=5,activation='tanh'))\n"
   ]
  },
  {
   "cell_type": "code",
   "execution_count": 156,
   "id": "0d88ad3b",
   "metadata": {},
   "outputs": [
    {
     "name": "stdout",
     "output_type": "stream",
     "text": [
      "Model: \"sequential_10\"\n",
      "_________________________________________________________________\n",
      " Layer (type)                Output Shape              Param #   \n",
      "=================================================================\n",
      " lstm (LSTM)                 (None, 100)               40800     \n",
      "                                                                 \n",
      " dense_8 (Dense)             (None, 5)                 505       \n",
      "                                                                 \n",
      "=================================================================\n",
      "Total params: 41305 (161.35 KB)\n",
      "Trainable params: 41305 (161.35 KB)\n",
      "Non-trainable params: 0 (0.00 Byte)\n",
      "_________________________________________________________________\n"
     ]
    }
   ],
   "source": [
    "model.summary()\n"
   ]
  },
  {
   "cell_type": "code",
   "execution_count": 157,
   "id": "bfdb37da",
   "metadata": {},
   "outputs": [],
   "source": [
    "\n",
    "model.compile(loss='mean_squared_error',optimizer='adam',metrics=['accuracy'])"
   ]
  },
  {
   "cell_type": "code",
   "execution_count": 158,
   "id": "cbb68a58",
   "metadata": {},
   "outputs": [
    {
     "name": "stdout",
     "output_type": "stream",
     "text": [
      "Epoch 1/2\n",
      "2493/2493 [==============================] - 25s 9ms/step - loss: 0.0011 - accuracy: 0.0000e+00\n",
      "Epoch 2/2\n",
      "2493/2493 [==============================] - 23s 9ms/step - loss: 6.4019e-04 - accuracy: 0.0000e+00\n"
     ]
    },
    {
     "data": {
      "text/plain": [
       "<keras.src.callbacks.History at 0x2cc166bf0d0>"
      ]
     },
     "execution_count": 158,
     "metadata": {},
     "output_type": "execute_result"
    }
   ],
   "source": [
    "model.fit(generatortrain,epochs=2)\n",
    "#y=output(class/labl)"
   ]
  },
  {
   "cell_type": "code",
   "execution_count": 159,
   "id": "fd1d40da",
   "metadata": {},
   "outputs": [
    {
     "name": "stdout",
     "output_type": "stream",
     "text": [
      "8569/8569 [==============================] - 40s 5ms/step - loss: 2.8232e-04 - accuracy: 0.0000e+00\n"
     ]
    },
    {
     "data": {
      "text/plain": [
       "[0.000282318884273991, 0.0]"
      ]
     },
     "execution_count": 159,
     "metadata": {},
     "output_type": "execute_result"
    }
   ],
   "source": [
    "model.evaluate(generatortest)"
   ]
  },
  {
   "cell_type": "code",
   "execution_count": 160,
   "id": "143e9eec",
   "metadata": {},
   "outputs": [
    {
     "name": "stdout",
     "output_type": "stream",
     "text": [
      "8569/8569 [==============================] - 39s 5ms/step\n"
     ]
    },
    {
     "data": {
      "text/plain": [
       "array([[0.25608912, 0.2559701 , 0.2560467 , 0.25641084, 0.25588322],\n",
       "       [0.25378296, 0.25425962, 0.2537671 , 0.254165  , 0.25298834],\n",
       "       [0.25101727, 0.25162625, 0.25093064, 0.25150493, 0.24978887],\n",
       "       ...,\n",
       "       [0.4349336 , 0.43590873, 0.43453178, 0.43591836, 0.43273374],\n",
       "       [0.4240144 , 0.425051  , 0.42347977, 0.4250159 , 0.4213755 ],\n",
       "       [0.4221429 , 0.42269212, 0.4217048 , 0.42309418, 0.42030472]],\n",
       "      dtype=float32)"
      ]
     },
     "execution_count": 160,
     "metadata": {},
     "output_type": "execute_result"
    }
   ],
   "source": [
    "model.predict(generatortest)"
   ]
  },
  {
   "cell_type": "markdown",
   "id": "387df33f",
   "metadata": {},
   "source": [
    "# USING GRU"
   ]
  },
  {
   "cell_type": "code",
   "execution_count": 162,
   "id": "33acfa93",
   "metadata": {},
   "outputs": [],
   "source": [
    "#tanh in time series,\n",
    "model=Sequential()\n",
    "model.add(GRU(units=100,input_shape=(n_input,n_features),activation='tanh'))\n",
    "model.add(Dense(units=5,activation='tanh'))"
   ]
  },
  {
   "cell_type": "code",
   "execution_count": 164,
   "id": "22feb290",
   "metadata": {},
   "outputs": [
    {
     "name": "stdout",
     "output_type": "stream",
     "text": [
      "Model: \"sequential_12\"\n",
      "_________________________________________________________________\n",
      " Layer (type)                Output Shape              Param #   \n",
      "=================================================================\n",
      " gru_1 (GRU)                 (None, 100)               30900     \n",
      "                                                                 \n",
      " dense_10 (Dense)            (None, 5)                 505       \n",
      "                                                                 \n",
      "=================================================================\n",
      "Total params: 31405 (122.68 KB)\n",
      "Trainable params: 31405 (122.68 KB)\n",
      "Non-trainable params: 0 (0.00 Byte)\n",
      "_________________________________________________________________\n"
     ]
    }
   ],
   "source": [
    "model.summary()\n"
   ]
  },
  {
   "cell_type": "code",
   "execution_count": 165,
   "id": "1589af61",
   "metadata": {},
   "outputs": [],
   "source": [
    "\n",
    "model.compile(loss='mean_squared_error',optimizer='adam',metrics=['accuracy'])"
   ]
  },
  {
   "cell_type": "code",
   "execution_count": 166,
   "id": "eb0367dc",
   "metadata": {},
   "outputs": [
    {
     "name": "stdout",
     "output_type": "stream",
     "text": [
      "Epoch 1/2\n",
      "2493/2493 [==============================] - 25s 9ms/step - loss: 0.0012 - accuracy: 0.0000e+00\n",
      "Epoch 2/2\n",
      "2493/2493 [==============================] - 22s 9ms/step - loss: 5.8487e-04 - accuracy: 0.0000e+00\n"
     ]
    },
    {
     "data": {
      "text/plain": [
       "<keras.src.callbacks.History at 0x2cc026e5a50>"
      ]
     },
     "execution_count": 166,
     "metadata": {},
     "output_type": "execute_result"
    }
   ],
   "source": [
    "model.fit(generatortrain,epochs=2)\n",
    "#y=output(class/labl)"
   ]
  },
  {
   "cell_type": "code",
   "execution_count": 167,
   "id": "8e15387c",
   "metadata": {},
   "outputs": [
    {
     "name": "stdout",
     "output_type": "stream",
     "text": [
      "8569/8569 [==============================] - 43s 5ms/step - loss: 2.2782e-04 - accuracy: 1.1670e-04\n"
     ]
    },
    {
     "data": {
      "text/plain": [
       "[0.00022781561710871756, 0.00011669973173411563]"
      ]
     },
     "execution_count": 167,
     "metadata": {},
     "output_type": "execute_result"
    }
   ],
   "source": [
    "model.evaluate(generatortest)"
   ]
  },
  {
   "cell_type": "code",
   "execution_count": null,
   "id": "b6efcc59",
   "metadata": {},
   "outputs": [],
   "source": [
    "model.predict(generatortest)"
   ]
  }
 ],
 "metadata": {
  "kernelspec": {
   "display_name": "Python 3 (ipykernel)",
   "language": "python",
   "name": "python3"
  },
  "language_info": {
   "codemirror_mode": {
    "name": "ipython",
    "version": 3
   },
   "file_extension": ".py",
   "mimetype": "text/x-python",
   "name": "python",
   "nbconvert_exporter": "python",
   "pygments_lexer": "ipython3",
   "version": "3.11.5"
  }
 },
 "nbformat": 4,
 "nbformat_minor": 5
}
