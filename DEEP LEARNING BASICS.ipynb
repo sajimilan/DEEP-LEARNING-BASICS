{
 "cells": [
  {
   "cell_type": "markdown",
   "metadata": {
    "id": "9M7jgl-f9d5e"
   },
   "source": [
    "# **3. Implement a feed forward neural network with three hidden layers for classification on cifar-10 dataset**"
   ]
  },
  {
   "cell_type": "code",
   "execution_count": 1,
   "metadata": {
    "id": "Zzt88Ktc9fvn"
   },
   "outputs": [
    {
     "name": "stderr",
     "output_type": "stream",
     "text": [
      "C:\\Users\\jinav\\anaconda3\\lib\\site-packages\\scipy\\__init__.py:155: UserWarning: A NumPy version >=1.18.5 and <1.25.0 is required for this version of SciPy (detected version 1.25.2\n",
      "  warnings.warn(f\"A NumPy version >={np_minversion} and <{np_maxversion}\"\n"
     ]
    }
   ],
   "source": [
    "import tensorflow as tf\n",
    "from keras import models,layers\n",
    "from keras.datasets import cifar10\n",
    "from keras.utils import to_categorical"
   ]
  },
  {
   "cell_type": "code",
   "execution_count": 2,
   "metadata": {
    "id": "MwKmWWlqOoQ3"
   },
   "outputs": [],
   "source": [
    "# Load CIFAR-10 dataset\n",
    "(train_images, train_labels), (test_images, test_labels) = cifar10.load_data()"
   ]
  },
  {
   "cell_type": "code",
   "execution_count": 3,
   "metadata": {
    "id": "uaAwzCOgPCOB"
   },
   "outputs": [],
   "source": [
    "# Normalize pixel values to be between 0 and 1\n",
    "train_images, test_images = train_images / 255.0, test_images / 255.0\n"
   ]
  },
  {
   "cell_type": "code",
   "execution_count": 4,
   "metadata": {
    "id": "rqHQpc-TPFjt"
   },
   "outputs": [],
   "source": [
    "# Convert labels to one-hot encoding\n",
    "train_labels = to_categorical(train_labels, 10)\n",
    "test_labels = to_categorical(test_labels, 10)\n"
   ]
  },
  {
   "cell_type": "code",
   "execution_count": 5,
   "metadata": {
    "id": "TLvwbS1hPJeI"
   },
   "outputs": [],
   "source": [
    "# Define the model\n",
    "model = models.Sequential()\n",
    "\n",
    "# Flatten the input for the fully connected layer\n",
    "model.add(layers.Flatten(input_shape=(32, 32, 3)))\n",
    "\n",
    "# Three hidden layers with ReLU activation\n",
    "model.add(layers.Dense(512, activation='relu'))\n",
    "model.add(layers.Dense(256, activation='relu'))\n",
    "model.add(layers.Dense(128, activation='relu'))\n",
    "\n",
    "# Output layer with softmax activation for classification\n",
    "model.add(layers.Dense(10, activation='softmax'))\n"
   ]
  },
  {
   "cell_type": "code",
   "execution_count": 6,
   "metadata": {
    "id": "ruJ167ppPMc_"
   },
   "outputs": [],
   "source": [
    "\n",
    "# Compile the model\n",
    "model.compile(optimizer='adam',\n",
    "              loss='categorical_crossentropy',\n",
    "              metrics=['accuracy'])\n"
   ]
  },
  {
   "cell_type": "code",
   "execution_count": 7,
   "metadata": {
    "colab": {
     "base_uri": "https://localhost:8080/"
    },
    "id": "fSnwnQmnPXDl",
    "outputId": "133a72ec-be82-4607-a507-26910e0921ed"
   },
   "outputs": [
    {
     "name": "stdout",
     "output_type": "stream",
     "text": [
      "Model: \"sequential\"\n",
      "_________________________________________________________________\n",
      " Layer (type)                Output Shape              Param #   \n",
      "=================================================================\n",
      " flatten (Flatten)           (None, 3072)              0         \n",
      "                                                                 \n",
      " dense (Dense)               (None, 512)               1573376   \n",
      "                                                                 \n",
      " dense_1 (Dense)             (None, 256)               131328    \n",
      "                                                                 \n",
      " dense_2 (Dense)             (None, 128)               32896     \n",
      "                                                                 \n",
      " dense_3 (Dense)             (None, 10)                1290      \n",
      "                                                                 \n",
      "=================================================================\n",
      "Total params: 1,738,890\n",
      "Trainable params: 1,738,890\n",
      "Non-trainable params: 0\n",
      "_________________________________________________________________\n"
     ]
    }
   ],
   "source": [
    "# Display the model summary\n",
    "model.summary()"
   ]
  },
  {
   "cell_type": "code",
   "execution_count": 8,
   "metadata": {
    "colab": {
     "base_uri": "https://localhost:8080/"
    },
    "id": "dO8ESjinPbcM",
    "outputId": "2d802ccc-92d7-4fa0-bb2d-69782c72d559"
   },
   "outputs": [
    {
     "name": "stdout",
     "output_type": "stream",
     "text": [
      "Epoch 1/15\n",
      "1563/1563 [==============================] - 40s 25ms/step - loss: 1.8549 - accuracy: 0.3250 - val_loss: 1.6934 - val_accuracy: 0.3992\n",
      "Epoch 2/15\n",
      "1563/1563 [==============================] - 38s 24ms/step - loss: 1.6671 - accuracy: 0.4013 - val_loss: 1.6294 - val_accuracy: 0.4204\n",
      "Epoch 3/15\n",
      "1563/1563 [==============================] - 36s 23ms/step - loss: 1.5891 - accuracy: 0.4285 - val_loss: 1.5310 - val_accuracy: 0.4563\n",
      "Epoch 4/15\n",
      "1563/1563 [==============================] - 35s 23ms/step - loss: 1.5389 - accuracy: 0.4497 - val_loss: 1.5616 - val_accuracy: 0.4410\n",
      "Epoch 5/15\n",
      "1563/1563 [==============================] - 36s 23ms/step - loss: 1.5001 - accuracy: 0.4620 - val_loss: 1.4951 - val_accuracy: 0.4640\n",
      "Epoch 6/15\n",
      "1563/1563 [==============================] - 37s 24ms/step - loss: 1.4685 - accuracy: 0.4730 - val_loss: 1.5124 - val_accuracy: 0.4568\n",
      "Epoch 7/15\n",
      "1563/1563 [==============================] - 37s 23ms/step - loss: 1.4437 - accuracy: 0.4813 - val_loss: 1.4459 - val_accuracy: 0.4806\n",
      "Epoch 8/15\n",
      "1563/1563 [==============================] - 39s 25ms/step - loss: 1.4163 - accuracy: 0.4931 - val_loss: 1.4585 - val_accuracy: 0.4774\n",
      "Epoch 9/15\n",
      "1563/1563 [==============================] - 37s 24ms/step - loss: 1.3904 - accuracy: 0.4985 - val_loss: 1.4529 - val_accuracy: 0.4807\n",
      "Epoch 10/15\n",
      "1563/1563 [==============================] - 39s 25ms/step - loss: 1.3655 - accuracy: 0.5076 - val_loss: 1.4366 - val_accuracy: 0.4903\n",
      "Epoch 11/15\n",
      "1563/1563 [==============================] - 38s 24ms/step - loss: 1.3424 - accuracy: 0.5175 - val_loss: 1.4323 - val_accuracy: 0.4933\n",
      "Epoch 12/15\n",
      " 997/1563 [==================>...........] - ETA: 14s - loss: 1.3224 - accuracy: 0.5255"
     ]
    },
    {
     "ename": "KeyboardInterrupt",
     "evalue": "",
     "output_type": "error",
     "traceback": [
      "\u001b[1;31m---------------------------------------------------------------------------\u001b[0m",
      "\u001b[1;31mKeyboardInterrupt\u001b[0m                         Traceback (most recent call last)",
      "\u001b[1;32m~\\AppData\\Local\\Temp\\ipykernel_2012\\2249043876.py\u001b[0m in \u001b[0;36m<module>\u001b[1;34m\u001b[0m\n\u001b[0;32m      1\u001b[0m \u001b[1;31m# Train the model\u001b[0m\u001b[1;33m\u001b[0m\u001b[1;33m\u001b[0m\u001b[0m\n\u001b[1;32m----> 2\u001b[1;33m \u001b[0mhistory\u001b[0m \u001b[1;33m=\u001b[0m \u001b[0mmodel\u001b[0m\u001b[1;33m.\u001b[0m\u001b[0mfit\u001b[0m\u001b[1;33m(\u001b[0m\u001b[0mtrain_images\u001b[0m\u001b[1;33m,\u001b[0m \u001b[0mtrain_labels\u001b[0m\u001b[1;33m,\u001b[0m \u001b[0mepochs\u001b[0m\u001b[1;33m=\u001b[0m\u001b[1;36m15\u001b[0m\u001b[1;33m,\u001b[0m \u001b[0mvalidation_data\u001b[0m\u001b[1;33m=\u001b[0m\u001b[1;33m(\u001b[0m\u001b[0mtest_images\u001b[0m\u001b[1;33m,\u001b[0m \u001b[0mtest_labels\u001b[0m\u001b[1;33m)\u001b[0m\u001b[1;33m)\u001b[0m\u001b[1;33m\u001b[0m\u001b[1;33m\u001b[0m\u001b[0m\n\u001b[0m",
      "\u001b[1;32m~\\anaconda3\\lib\\site-packages\\keras\\utils\\traceback_utils.py\u001b[0m in \u001b[0;36merror_handler\u001b[1;34m(*args, **kwargs)\u001b[0m\n\u001b[0;32m     63\u001b[0m         \u001b[0mfiltered_tb\u001b[0m \u001b[1;33m=\u001b[0m \u001b[1;32mNone\u001b[0m\u001b[1;33m\u001b[0m\u001b[1;33m\u001b[0m\u001b[0m\n\u001b[0;32m     64\u001b[0m         \u001b[1;32mtry\u001b[0m\u001b[1;33m:\u001b[0m\u001b[1;33m\u001b[0m\u001b[1;33m\u001b[0m\u001b[0m\n\u001b[1;32m---> 65\u001b[1;33m             \u001b[1;32mreturn\u001b[0m \u001b[0mfn\u001b[0m\u001b[1;33m(\u001b[0m\u001b[1;33m*\u001b[0m\u001b[0margs\u001b[0m\u001b[1;33m,\u001b[0m \u001b[1;33m**\u001b[0m\u001b[0mkwargs\u001b[0m\u001b[1;33m)\u001b[0m\u001b[1;33m\u001b[0m\u001b[1;33m\u001b[0m\u001b[0m\n\u001b[0m\u001b[0;32m     66\u001b[0m         \u001b[1;32mexcept\u001b[0m \u001b[0mException\u001b[0m \u001b[1;32mas\u001b[0m \u001b[0me\u001b[0m\u001b[1;33m:\u001b[0m\u001b[1;33m\u001b[0m\u001b[1;33m\u001b[0m\u001b[0m\n\u001b[0;32m     67\u001b[0m             \u001b[0mfiltered_tb\u001b[0m \u001b[1;33m=\u001b[0m \u001b[0m_process_traceback_frames\u001b[0m\u001b[1;33m(\u001b[0m\u001b[0me\u001b[0m\u001b[1;33m.\u001b[0m\u001b[0m__traceback__\u001b[0m\u001b[1;33m)\u001b[0m\u001b[1;33m\u001b[0m\u001b[1;33m\u001b[0m\u001b[0m\n",
      "\u001b[1;32m~\\anaconda3\\lib\\site-packages\\keras\\engine\\training.py\u001b[0m in \u001b[0;36mfit\u001b[1;34m(self, x, y, batch_size, epochs, verbose, callbacks, validation_split, validation_data, shuffle, class_weight, sample_weight, initial_epoch, steps_per_epoch, validation_steps, validation_batch_size, validation_freq, max_queue_size, workers, use_multiprocessing)\u001b[0m\n\u001b[0;32m   1648\u001b[0m                         ):\n\u001b[0;32m   1649\u001b[0m                             \u001b[0mcallbacks\u001b[0m\u001b[1;33m.\u001b[0m\u001b[0mon_train_batch_begin\u001b[0m\u001b[1;33m(\u001b[0m\u001b[0mstep\u001b[0m\u001b[1;33m)\u001b[0m\u001b[1;33m\u001b[0m\u001b[1;33m\u001b[0m\u001b[0m\n\u001b[1;32m-> 1650\u001b[1;33m                             \u001b[0mtmp_logs\u001b[0m \u001b[1;33m=\u001b[0m \u001b[0mself\u001b[0m\u001b[1;33m.\u001b[0m\u001b[0mtrain_function\u001b[0m\u001b[1;33m(\u001b[0m\u001b[0miterator\u001b[0m\u001b[1;33m)\u001b[0m\u001b[1;33m\u001b[0m\u001b[1;33m\u001b[0m\u001b[0m\n\u001b[0m\u001b[0;32m   1651\u001b[0m                             \u001b[1;32mif\u001b[0m \u001b[0mdata_handler\u001b[0m\u001b[1;33m.\u001b[0m\u001b[0mshould_sync\u001b[0m\u001b[1;33m:\u001b[0m\u001b[1;33m\u001b[0m\u001b[1;33m\u001b[0m\u001b[0m\n\u001b[0;32m   1652\u001b[0m                                 \u001b[0mcontext\u001b[0m\u001b[1;33m.\u001b[0m\u001b[0masync_wait\u001b[0m\u001b[1;33m(\u001b[0m\u001b[1;33m)\u001b[0m\u001b[1;33m\u001b[0m\u001b[1;33m\u001b[0m\u001b[0m\n",
      "\u001b[1;32m~\\anaconda3\\lib\\site-packages\\tensorflow\\python\\util\\traceback_utils.py\u001b[0m in \u001b[0;36merror_handler\u001b[1;34m(*args, **kwargs)\u001b[0m\n\u001b[0;32m    148\u001b[0m     \u001b[0mfiltered_tb\u001b[0m \u001b[1;33m=\u001b[0m \u001b[1;32mNone\u001b[0m\u001b[1;33m\u001b[0m\u001b[1;33m\u001b[0m\u001b[0m\n\u001b[0;32m    149\u001b[0m     \u001b[1;32mtry\u001b[0m\u001b[1;33m:\u001b[0m\u001b[1;33m\u001b[0m\u001b[1;33m\u001b[0m\u001b[0m\n\u001b[1;32m--> 150\u001b[1;33m       \u001b[1;32mreturn\u001b[0m \u001b[0mfn\u001b[0m\u001b[1;33m(\u001b[0m\u001b[1;33m*\u001b[0m\u001b[0margs\u001b[0m\u001b[1;33m,\u001b[0m \u001b[1;33m**\u001b[0m\u001b[0mkwargs\u001b[0m\u001b[1;33m)\u001b[0m\u001b[1;33m\u001b[0m\u001b[1;33m\u001b[0m\u001b[0m\n\u001b[0m\u001b[0;32m    151\u001b[0m     \u001b[1;32mexcept\u001b[0m \u001b[0mException\u001b[0m \u001b[1;32mas\u001b[0m \u001b[0me\u001b[0m\u001b[1;33m:\u001b[0m\u001b[1;33m\u001b[0m\u001b[1;33m\u001b[0m\u001b[0m\n\u001b[0;32m    152\u001b[0m       \u001b[0mfiltered_tb\u001b[0m \u001b[1;33m=\u001b[0m \u001b[0m_process_traceback_frames\u001b[0m\u001b[1;33m(\u001b[0m\u001b[0me\u001b[0m\u001b[1;33m.\u001b[0m\u001b[0m__traceback__\u001b[0m\u001b[1;33m)\u001b[0m\u001b[1;33m\u001b[0m\u001b[1;33m\u001b[0m\u001b[0m\n",
      "\u001b[1;32m~\\anaconda3\\lib\\site-packages\\tensorflow\\python\\eager\\polymorphic_function\\polymorphic_function.py\u001b[0m in \u001b[0;36m__call__\u001b[1;34m(self, *args, **kwds)\u001b[0m\n\u001b[0;32m    878\u001b[0m \u001b[1;33m\u001b[0m\u001b[0m\n\u001b[0;32m    879\u001b[0m       \u001b[1;32mwith\u001b[0m \u001b[0mOptionalXlaContext\u001b[0m\u001b[1;33m(\u001b[0m\u001b[0mself\u001b[0m\u001b[1;33m.\u001b[0m\u001b[0m_jit_compile\u001b[0m\u001b[1;33m)\u001b[0m\u001b[1;33m:\u001b[0m\u001b[1;33m\u001b[0m\u001b[1;33m\u001b[0m\u001b[0m\n\u001b[1;32m--> 880\u001b[1;33m         \u001b[0mresult\u001b[0m \u001b[1;33m=\u001b[0m \u001b[0mself\u001b[0m\u001b[1;33m.\u001b[0m\u001b[0m_call\u001b[0m\u001b[1;33m(\u001b[0m\u001b[1;33m*\u001b[0m\u001b[0margs\u001b[0m\u001b[1;33m,\u001b[0m \u001b[1;33m**\u001b[0m\u001b[0mkwds\u001b[0m\u001b[1;33m)\u001b[0m\u001b[1;33m\u001b[0m\u001b[1;33m\u001b[0m\u001b[0m\n\u001b[0m\u001b[0;32m    881\u001b[0m \u001b[1;33m\u001b[0m\u001b[0m\n\u001b[0;32m    882\u001b[0m       \u001b[0mnew_tracing_count\u001b[0m \u001b[1;33m=\u001b[0m \u001b[0mself\u001b[0m\u001b[1;33m.\u001b[0m\u001b[0mexperimental_get_tracing_count\u001b[0m\u001b[1;33m(\u001b[0m\u001b[1;33m)\u001b[0m\u001b[1;33m\u001b[0m\u001b[1;33m\u001b[0m\u001b[0m\n",
      "\u001b[1;32m~\\anaconda3\\lib\\site-packages\\tensorflow\\python\\eager\\polymorphic_function\\polymorphic_function.py\u001b[0m in \u001b[0;36m_call\u001b[1;34m(self, *args, **kwds)\u001b[0m\n\u001b[0;32m    910\u001b[0m       \u001b[1;31m# In this case we have created variables on the first call, so we run the\u001b[0m\u001b[1;33m\u001b[0m\u001b[1;33m\u001b[0m\u001b[0m\n\u001b[0;32m    911\u001b[0m       \u001b[1;31m# defunned version which is guaranteed to never create variables.\u001b[0m\u001b[1;33m\u001b[0m\u001b[1;33m\u001b[0m\u001b[0m\n\u001b[1;32m--> 912\u001b[1;33m       \u001b[1;32mreturn\u001b[0m \u001b[0mself\u001b[0m\u001b[1;33m.\u001b[0m\u001b[0m_no_variable_creation_fn\u001b[0m\u001b[1;33m(\u001b[0m\u001b[1;33m*\u001b[0m\u001b[0margs\u001b[0m\u001b[1;33m,\u001b[0m \u001b[1;33m**\u001b[0m\u001b[0mkwds\u001b[0m\u001b[1;33m)\u001b[0m  \u001b[1;31m# pylint: disable=not-callable\u001b[0m\u001b[1;33m\u001b[0m\u001b[1;33m\u001b[0m\u001b[0m\n\u001b[0m\u001b[0;32m    913\u001b[0m     \u001b[1;32melif\u001b[0m \u001b[0mself\u001b[0m\u001b[1;33m.\u001b[0m\u001b[0m_variable_creation_fn\u001b[0m \u001b[1;32mis\u001b[0m \u001b[1;32mnot\u001b[0m \u001b[1;32mNone\u001b[0m\u001b[1;33m:\u001b[0m\u001b[1;33m\u001b[0m\u001b[1;33m\u001b[0m\u001b[0m\n\u001b[0;32m    914\u001b[0m       \u001b[1;31m# Release the lock early so that multiple threads can perform the call\u001b[0m\u001b[1;33m\u001b[0m\u001b[1;33m\u001b[0m\u001b[0m\n",
      "\u001b[1;32m~\\anaconda3\\lib\\site-packages\\tensorflow\\python\\eager\\polymorphic_function\\tracing_compiler.py\u001b[0m in \u001b[0;36m__call__\u001b[1;34m(self, *args, **kwargs)\u001b[0m\n\u001b[0;32m    132\u001b[0m       (concrete_function,\n\u001b[0;32m    133\u001b[0m        filtered_flat_args) = self._maybe_define_function(args, kwargs)\n\u001b[1;32m--> 134\u001b[1;33m     return concrete_function._call_flat(\n\u001b[0m\u001b[0;32m    135\u001b[0m         filtered_flat_args, captured_inputs=concrete_function.captured_inputs)  # pylint: disable=protected-access\n\u001b[0;32m    136\u001b[0m \u001b[1;33m\u001b[0m\u001b[0m\n",
      "\u001b[1;32m~\\anaconda3\\lib\\site-packages\\tensorflow\\python\\eager\\polymorphic_function\\monomorphic_function.py\u001b[0m in \u001b[0;36m_call_flat\u001b[1;34m(self, args, captured_inputs, cancellation_manager)\u001b[0m\n\u001b[0;32m   1743\u001b[0m         and executing_eagerly):\n\u001b[0;32m   1744\u001b[0m       \u001b[1;31m# No tape is watching; skip to running the function.\u001b[0m\u001b[1;33m\u001b[0m\u001b[1;33m\u001b[0m\u001b[0m\n\u001b[1;32m-> 1745\u001b[1;33m       return self._build_call_outputs(self._inference_function.call(\n\u001b[0m\u001b[0;32m   1746\u001b[0m           ctx, args, cancellation_manager=cancellation_manager))\n\u001b[0;32m   1747\u001b[0m     forward_backward = self._select_forward_and_backward_functions(\n",
      "\u001b[1;32m~\\anaconda3\\lib\\site-packages\\tensorflow\\python\\eager\\polymorphic_function\\monomorphic_function.py\u001b[0m in \u001b[0;36mcall\u001b[1;34m(self, ctx, args, cancellation_manager)\u001b[0m\n\u001b[0;32m    376\u001b[0m       \u001b[1;32mwith\u001b[0m \u001b[0m_InterpolateFunctionError\u001b[0m\u001b[1;33m(\u001b[0m\u001b[0mself\u001b[0m\u001b[1;33m)\u001b[0m\u001b[1;33m:\u001b[0m\u001b[1;33m\u001b[0m\u001b[1;33m\u001b[0m\u001b[0m\n\u001b[0;32m    377\u001b[0m         \u001b[1;32mif\u001b[0m \u001b[0mcancellation_manager\u001b[0m \u001b[1;32mis\u001b[0m \u001b[1;32mNone\u001b[0m\u001b[1;33m:\u001b[0m\u001b[1;33m\u001b[0m\u001b[1;33m\u001b[0m\u001b[0m\n\u001b[1;32m--> 378\u001b[1;33m           outputs = execute.execute(\n\u001b[0m\u001b[0;32m    379\u001b[0m               \u001b[0mstr\u001b[0m\u001b[1;33m(\u001b[0m\u001b[0mself\u001b[0m\u001b[1;33m.\u001b[0m\u001b[0msignature\u001b[0m\u001b[1;33m.\u001b[0m\u001b[0mname\u001b[0m\u001b[1;33m)\u001b[0m\u001b[1;33m,\u001b[0m\u001b[1;33m\u001b[0m\u001b[1;33m\u001b[0m\u001b[0m\n\u001b[0;32m    380\u001b[0m               \u001b[0mnum_outputs\u001b[0m\u001b[1;33m=\u001b[0m\u001b[0mself\u001b[0m\u001b[1;33m.\u001b[0m\u001b[0m_num_outputs\u001b[0m\u001b[1;33m,\u001b[0m\u001b[1;33m\u001b[0m\u001b[1;33m\u001b[0m\u001b[0m\n",
      "\u001b[1;32m~\\anaconda3\\lib\\site-packages\\tensorflow\\python\\eager\\execute.py\u001b[0m in \u001b[0;36mquick_execute\u001b[1;34m(op_name, num_outputs, inputs, attrs, ctx, name)\u001b[0m\n\u001b[0;32m     50\u001b[0m   \u001b[1;32mtry\u001b[0m\u001b[1;33m:\u001b[0m\u001b[1;33m\u001b[0m\u001b[1;33m\u001b[0m\u001b[0m\n\u001b[0;32m     51\u001b[0m     \u001b[0mctx\u001b[0m\u001b[1;33m.\u001b[0m\u001b[0mensure_initialized\u001b[0m\u001b[1;33m(\u001b[0m\u001b[1;33m)\u001b[0m\u001b[1;33m\u001b[0m\u001b[1;33m\u001b[0m\u001b[0m\n\u001b[1;32m---> 52\u001b[1;33m     tensors = pywrap_tfe.TFE_Py_Execute(ctx._handle, device_name, op_name,\n\u001b[0m\u001b[0;32m     53\u001b[0m                                         inputs, attrs, num_outputs)\n\u001b[0;32m     54\u001b[0m   \u001b[1;32mexcept\u001b[0m \u001b[0mcore\u001b[0m\u001b[1;33m.\u001b[0m\u001b[0m_NotOkStatusException\u001b[0m \u001b[1;32mas\u001b[0m \u001b[0me\u001b[0m\u001b[1;33m:\u001b[0m\u001b[1;33m\u001b[0m\u001b[1;33m\u001b[0m\u001b[0m\n",
      "\u001b[1;31mKeyboardInterrupt\u001b[0m: "
     ]
    }
   ],
   "source": [
    "# Train the model\n",
    "history = model.fit(train_images, train_labels, epochs=15, validation_data=(test_images, test_labels))\n"
   ]
  },
  {
   "cell_type": "code",
   "execution_count": null,
   "metadata": {
    "colab": {
     "base_uri": "https://localhost:8080/"
    },
    "id": "YjmNvZwRPeCC",
    "outputId": "95c7dcbe-d7a8-43a0-dedd-a7a61e22df8d"
   },
   "outputs": [
    {
     "name": "stdout",
     "output_type": "stream",
     "text": [
      "313/313 [==============================] - 1s 3ms/step - loss: 1.4293 - accuracy: 0.4974\n"
     ]
    }
   ],
   "source": [
    "\n",
    "# Evaluate the model\n",
    "score = model.evaluate(test_images, test_labels)"
   ]
  },
  {
   "cell_type": "code",
   "execution_count": null,
   "metadata": {
    "colab": {
     "base_uri": "https://localhost:8080/",
     "height": 449
    },
    "id": "5bnBiHqiQpyL",
    "outputId": "4668b4ad-40d3-4d91-9dac-613e97b8a2e3"
   },
   "outputs": [
    {
     "data": {
      "image/png": "[encoded data removed]",
      "text/plain": [
       "<Figure size 640x480 with 1 Axes>"
      ]
     },
     "metadata": {},
     "output_type": "display_data"
    }
   ],
   "source": [
    "import matplotlib.pyplot as plt\n",
    "plt.plot(history.history['accuracy'], label='Training Accuracy')\n",
    "plt.plot(history.history['val_accuracy'], label='Validation Accuracy')\n",
    "plt.xlabel('Epoch')\n",
    "plt.ylabel('Accuracy')\n",
    "plt.legend()\n",
    "plt.show()"
   ]
  },
  {
   "cell_type": "markdown",
   "metadata": {
    "id": "euVxLtD4RySJ"
   },
   "source": [
    "# **4. Analyzing the impact of optimization and weight initialization techniques on neural networks**"
   ]
  },
  {
   "cell_type": "code",
   "execution_count": null,
   "metadata": {
    "id": "ilGdlv6HQvlO"
   },
   "outputs": [],
   "source": [
    "import tensorflow as tf\n",
    "import numpy as np\n",
    "from keras import models,layers,optimizers\n",
    "from keras.datasets import cifar10\n",
    "from keras.utils import to_categorical"
   ]
  },
  {
   "cell_type": "code",
   "execution_count": null,
   "metadata": {
    "id": "Qs5hvfIfTLpD"
   },
   "outputs": [],
   "source": [
    "(X_train,y_train), (X_test,y_test) = cifar10.load_data()"
   ]
  },
  {
   "cell_type": "code",
   "execution_count": null,
   "metadata": {
    "id": "xgUSvZS9TYNp"
   },
   "outputs": [],
   "source": [
    "X_train = X_train.astype('float32')/ 255.0\n",
    "X_test = X_test.astype('float32')/255.0"
   ]
  },
  {
   "cell_type": "code",
   "execution_count": null,
   "metadata": {
    "colab": {
     "base_uri": "https://localhost:8080/"
    },
    "id": "BsfvuXW2hLS4",
    "outputId": "eef1b6c1-8bb0-4da3-dbd3-b76802694929"
   },
   "outputs": [
    {
     "data": {
      "text/plain": [
       "(50000, 32, 32, 3)"
      ]
     },
     "execution_count": 51,
     "metadata": {},
     "output_type": "execute_result"
    }
   ],
   "source": [
    "X_train.shape"
   ]
  },
  {
   "cell_type": "code",
   "execution_count": null,
   "metadata": {
    "id": "HEbcsdl5WO5R"
   },
   "outputs": [],
   "source": [
    "y_train = to_categorical(y_train,10)\n",
    "y_test = to_categorical(y_test,10)"
   ]
  },
  {
   "cell_type": "code",
   "execution_count": null,
   "metadata": {
    "id": "BIdoKFRsgmVS"
   },
   "outputs": [],
   "source": [
    "#Xavier Initialization\n",
    "model1 = models.Sequential()\n",
    "\n",
    "model1.add(layers.Flatten(input_shape=(32,32,3)))\n",
    "\n",
    "model1.add(layers.Dense(256,activation='relu',kernel_initializer='glorot_uniform'))\n",
    "model1.add(layers.Dense(256,activation='relu',kernel_initializer='glorot_uniform'))\n",
    "\n",
    "model1.add(layers.Dense(10,activation='softmax',kernel_initializer='glorot_uniform'))\n"
   ]
  },
  {
   "cell_type": "code",
   "execution_count": null,
   "metadata": {
    "id": "FwaeaIZYik3H"
   },
   "outputs": [],
   "source": [
    "#Kaiming He Initialization\n",
    "model2 = models.Sequential()\n",
    "\n",
    "model2.add(layers.Flatten(input_shape=(32,32,3)))\n",
    "\n",
    "model2.add(layers.Dense(256,activation='relu',kernel_initializer='he_normal'))\n",
    "model2.add(layers.Dense(128,activation='relu',kernel_initializer='he_normal'))\n",
    "\n",
    "model2.add(layers.Dense(10,activation='softmax',kernel_initializer='he_normal'))\n"
   ]
  },
  {
   "cell_type": "code",
   "execution_count": null,
   "metadata": {
    "id": "oxYNlSNgkPd0"
   },
   "outputs": [],
   "source": [
    "#With dropout Layer\n",
    "model3 = models.Sequential()\n",
    "model3.add(layers.Flatten(input_shape=(32,32,3)))\n",
    "\n",
    "model3.add(layers.Dense(256,activation='relu',kernel_initializer='glorot_uniform'))\n",
    "model3.add(layers.Dropout(0.25))\n",
    "model3.add(layers.Dense(128,activation='relu'))\n",
    "\n",
    "model3.add(layers.Dense(10,activation='softmax')\n"
   ]
  },
  {
   "cell_type": "code",
   "execution_count": null,
   "metadata": {
    "id": "stWOUKVPljUK"
   },
   "outputs": [],
   "source": [
    "# with batch normalization\n",
    "model4 = models.Sequential()\n",
    "model4.add(layers.Flatten(input_shape=(32,32,3)))\n",
    "model4.add(layers.Dense(256,activation='relu'))\n",
    "model4.add(layers.BatchNormalization())\n",
    "model4.add(layers.Activation('relu'))\n",
    "model4.add(layers.Dense(10,activation='softmax'))"
   ]
  },
  {
   "cell_type": "code",
   "execution_count": null,
   "metadata": {
    "colab": {
     "base_uri": "https://localhost:8080/"
    },
    "id": "zzvrEzk_mi8C",
    "outputId": "2da2e095-1774-4d5b-9e63-3c176634c2f3"
   },
   "outputs": [
    {
     "name": "stdout",
     "output_type": "stream",
     "text": [
      "Model: \"sequential_5\"\n",
      "_________________________________________________________________\n",
      " Layer (type)                Output Shape              Param #   \n",
      "=================================================================\n",
      " flatten_5 (Flatten)         (None, 3072)              0         \n",
      "                                                                 \n",
      " dense_20 (Dense)            (None, 256)               786688    \n",
      "                                                                 \n",
      " dense_21 (Dense)            (None, 256)               65792     \n",
      "                                                                 \n",
      " dense_22 (Dense)            (None, 10)                2570      \n",
      "                                                                 \n",
      "=================================================================\n",
      "Total params: 855050 (3.26 MB)\n",
      "Trainable params: 855050 (3.26 MB)\n",
      "Non-trainable params: 0 (0.00 Byte)\n",
      "_________________________________________________________________\n",
      "None\n",
      "Epoch 1/15\n",
      "1250/1250 [==============================] - 5s 4ms/step - loss: 1.2011 - accuracy: 0.5697 - val_loss: 1.5958 - val_accuracy: 0.4554\n",
      "Epoch 2/15\n",
      "1250/1250 [==============================] - 5s 4ms/step - loss: 1.1992 - accuracy: 0.5675 - val_loss: 1.6043 - val_accuracy: 0.4731\n",
      "Epoch 3/15\n",
      "1250/1250 [==============================] - 8s 6ms/step - loss: 1.1797 - accuracy: 0.5774 - val_loss: 1.6420 - val_accuracy: 0.4659\n",
      "Epoch 4/15\n",
      "1250/1250 [==============================] - 11s 8ms/step - loss: 1.1725 - accuracy: 0.5795 - val_loss: 1.5975 - val_accuracy: 0.4805\n",
      "Epoch 5/15\n",
      "1250/1250 [==============================] - 6s 5ms/step - loss: 1.1643 - accuracy: 0.5820 - val_loss: 1.6569 - val_accuracy: 0.4851\n",
      "Epoch 6/15\n",
      "1250/1250 [==============================] - 6s 5ms/step - loss: 1.1522 - accuracy: 0.5883 - val_loss: 1.6383 - val_accuracy: 0.4823\n",
      "Epoch 7/15\n",
      "1250/1250 [==============================] - 5s 4ms/step - loss: 1.1342 - accuracy: 0.5931 - val_loss: 1.6576 - val_accuracy: 0.4696\n",
      "Epoch 8/15\n",
      "1250/1250 [==============================] - 5s 4ms/step - loss: 1.1329 - accuracy: 0.5934 - val_loss: 1.6258 - val_accuracy: 0.4714\n",
      "Epoch 9/15\n",
      "1250/1250 [==============================] - 6s 5ms/step - loss: 1.1284 - accuracy: 0.5943 - val_loss: 1.6065 - val_accuracy: 0.4804\n",
      "Epoch 10/15\n",
      "1250/1250 [==============================] - 7s 6ms/step - loss: 1.1280 - accuracy: 0.5945 - val_loss: 1.6600 - val_accuracy: 0.4794\n",
      "Epoch 11/15\n",
      "1250/1250 [==============================] - 11s 9ms/step - loss: 1.0999 - accuracy: 0.6050 - val_loss: 1.6530 - val_accuracy: 0.4806\n",
      "Epoch 12/15\n",
      "1250/1250 [==============================] - 5s 4ms/step - loss: 1.0996 - accuracy: 0.6064 - val_loss: 1.6461 - val_accuracy: 0.4627\n",
      "Epoch 13/15\n",
      "1250/1250 [==============================] - 6s 5ms/step - loss: 1.0901 - accuracy: 0.6094 - val_loss: 1.6737 - val_accuracy: 0.4865\n",
      "Epoch 14/15\n",
      "1250/1250 [==============================] - 5s 4ms/step - loss: 1.0911 - accuracy: 0.6061 - val_loss: 1.6170 - val_accuracy: 0.4868\n",
      "Epoch 15/15\n",
      "1250/1250 [==============================] - 5s 4ms/step - loss: 1.0834 - accuracy: 0.6080 - val_loss: 1.6006 - val_accuracy: 0.4867\n",
      "313/313 [==============================] - 1s 3ms/step - loss: 1.5901 - accuracy: 0.4834\n",
      "[1.5901356935501099, 0.48339998722076416]\n"
     ]
    }
   ],
   "source": [
    "#sgd_optimizer = optimizers.SGD(learning_rate=0.01, momentum=0.9)\n",
    "model1.compile(optimizer='adam',\n",
    "              loss='categorical_crossentropy',\n",
    "              metrics=['accuracy'])\n",
    "print(model1.summary())\n",
    "history1  = model1.fit(X_train,y_train,epochs=15,batch_size=32,validation_split=0.2)\n",
    "score1 = model1.evaluate(X_test,y_test,batch_size=32)\n",
    "print(score1)"
   ]
  },
  {
   "cell_type": "code",
   "execution_count": null,
   "metadata": {
    "colab": {
     "base_uri": "https://localhost:8080/"
    },
    "id": "_z9ZyY7jooKh",
    "outputId": "f9a09c6d-0d36-4716-d26d-562f086167ef"
   },
   "outputs": [
    {
     "name": "stdout",
     "output_type": "stream",
     "text": [
      "Model: \"sequential_6\"\n",
      "_________________________________________________________________\n",
      " Layer (type)                Output Shape              Param #   \n",
      "=================================================================\n",
      " flatten_7 (Flatten)         (None, 3072)              0         \n",
      "                                                                 \n",
      " dense_23 (Dense)            (None, 256)               786688    \n",
      "                                                                 \n",
      " dense_24 (Dense)            (None, 128)               32896     \n",
      "                                                                 \n",
      " dense_25 (Dense)            (None, 10)                1290      \n",
      "                                                                 \n",
      "=================================================================\n",
      "Total params: 820874 (3.13 MB)\n",
      "Trainable params: 820874 (3.13 MB)\n",
      "Non-trainable params: 0 (0.00 Byte)\n",
      "_________________________________________________________________\n",
      "None\n",
      "Epoch 1/15\n",
      "1250/1250 [==============================] - 6s 4ms/step - loss: 1.8980 - accuracy: 0.3108 - val_loss: 1.8428 - val_accuracy: 0.3467\n",
      "Epoch 2/15\n",
      "1250/1250 [==============================] - 5s 4ms/step - loss: 1.7475 - accuracy: 0.3696 - val_loss: 1.7079 - val_accuracy: 0.3949\n",
      "Epoch 3/15\n",
      "1250/1250 [==============================] - 6s 5ms/step - loss: 1.6806 - accuracy: 0.3970 - val_loss: 1.6845 - val_accuracy: 0.4003\n",
      "Epoch 4/15\n",
      "1250/1250 [==============================] - 5s 4ms/step - loss: 1.6408 - accuracy: 0.4121 - val_loss: 1.6433 - val_accuracy: 0.4137\n",
      "Epoch 5/15\n",
      "1250/1250 [==============================] - 6s 5ms/step - loss: 1.6106 - accuracy: 0.4227 - val_loss: 1.6555 - val_accuracy: 0.4011\n",
      "Epoch 6/15\n",
      "1250/1250 [==============================] - 5s 4ms/step - loss: 1.5970 - accuracy: 0.4271 - val_loss: 1.6374 - val_accuracy: 0.4168\n",
      "Epoch 7/15\n",
      "1250/1250 [==============================] - 5s 4ms/step - loss: 1.5810 - accuracy: 0.4349 - val_loss: 1.6392 - val_accuracy: 0.4246\n",
      "Epoch 8/15\n",
      "1250/1250 [==============================] - 6s 5ms/step - loss: 1.5544 - accuracy: 0.4430 - val_loss: 1.6078 - val_accuracy: 0.4346\n",
      "Epoch 9/15\n",
      "1250/1250 [==============================] - 5s 4ms/step - loss: 1.5450 - accuracy: 0.4478 - val_loss: 1.6112 - val_accuracy: 0.4334\n",
      "Epoch 10/15\n",
      "1250/1250 [==============================] - 6s 5ms/step - loss: 1.5314 - accuracy: 0.4518 - val_loss: 1.6114 - val_accuracy: 0.4192\n",
      "Epoch 11/15\n",
      "1250/1250 [==============================] - 5s 4ms/step - loss: 1.5178 - accuracy: 0.4579 - val_loss: 1.6373 - val_accuracy: 0.4232\n",
      "Epoch 12/15\n",
      "1250/1250 [==============================] - 5s 4ms/step - loss: 1.5006 - accuracy: 0.4611 - val_loss: 1.6064 - val_accuracy: 0.4356\n",
      "Epoch 13/15\n",
      "1250/1250 [==============================] - 6s 5ms/step - loss: 1.4885 - accuracy: 0.4659 - val_loss: 1.5687 - val_accuracy: 0.4506\n",
      "Epoch 14/15\n",
      "1250/1250 [==============================] - 5s 4ms/step - loss: 1.4713 - accuracy: 0.4740 - val_loss: 1.5912 - val_accuracy: 0.4385\n",
      "Epoch 15/15\n",
      "1250/1250 [==============================] - 5s 4ms/step - loss: 1.4612 - accuracy: 0.4802 - val_loss: 1.5714 - val_accuracy: 0.4573\n",
      "79/79 [==============================] - 0s 3ms/step - loss: 1.5333 - accuracy: 0.4648\n",
      "[1.5333362817764282, 0.46480000019073486]\n"
     ]
    }
   ],
   "source": [
    "sgd_optimizer = optimizers.SGD(learning_rate=0.01, momentum=0.9)\n",
    "model2.compile(optimizer=sgd_optimizer,\n",
    "              loss='categorical_crossentropy',\n",
    "              metrics=['accuracy'])\n",
    "print(model2.summary())\n",
    "history2  = model2.fit(X_train,y_train,epochs=15,batch_size=32,validation_split=0.2)\n",
    "score2 = model2.evaluate(X_test,y_test,batch_size=128)\n",
    "print(score2)"
   ]
  },
  {
   "cell_type": "code",
   "execution_count": null,
   "metadata": {
    "colab": {
     "base_uri": "https://localhost:8080/"
    },
    "id": "MDhi4SchpMPt",
    "outputId": "6fefaef1-ed32-446f-8456-71f707ac72c9"
   },
   "outputs": [
    {
     "name": "stdout",
     "output_type": "stream",
     "text": [
      "Model: \"sequential_8\"\n",
      "_________________________________________________________________\n",
      " Layer (type)                Output Shape              Param #   \n",
      "=================================================================\n",
      " flatten_9 (Flatten)         (None, 3072)              0         \n",
      "                                                                 \n",
      " dense_27 (Dense)            (None, 256)               786688    \n",
      "                                                                 \n",
      " dropout_1 (Dropout)         (None, 256)               0         \n",
      "                                                                 \n",
      " dense_28 (Dense)            (None, 128)               32896     \n",
      "                                                                 \n",
      " dense_29 (Dense)            (None, 10)                1290      \n",
      "                                                                 \n",
      " dense_31 (Dense)            (None, 10)                110       \n",
      "                                                                 \n",
      "=================================================================\n",
      "Total params: 820984 (3.13 MB)\n",
      "Trainable params: 820984 (3.13 MB)\n",
      "Non-trainable params: 0 (0.00 Byte)\n",
      "_________________________________________________________________\n",
      "None\n",
      "Epoch 1/15\n",
      "1250/1250 [==============================] - 8s 5ms/step - loss: 2.1377 - accuracy: 0.1784 - val_loss: 2.0517 - val_accuracy: 0.2064\n",
      "Epoch 2/15\n",
      "1250/1250 [==============================] - 6s 5ms/step - loss: 2.0110 - accuracy: 0.2422 - val_loss: 1.9571 - val_accuracy: 0.2505\n",
      "Epoch 3/15\n",
      "1250/1250 [==============================] - 5s 4ms/step - loss: 1.9457 - accuracy: 0.2711 - val_loss: 1.9030 - val_accuracy: 0.2968\n",
      "Epoch 4/15\n",
      "1250/1250 [==============================] - 6s 5ms/step - loss: 1.8911 - accuracy: 0.2982 - val_loss: 1.8843 - val_accuracy: 0.3035\n",
      "Epoch 5/15\n",
      "1250/1250 [==============================] - 5s 4ms/step - loss: 1.8400 - accuracy: 0.3206 - val_loss: 1.8207 - val_accuracy: 0.3144\n",
      "Epoch 6/15\n",
      "1250/1250 [==============================] - 6s 4ms/step - loss: 1.8117 - accuracy: 0.3339 - val_loss: 1.7592 - val_accuracy: 0.3613\n",
      "Epoch 7/15\n",
      "1250/1250 [==============================] - 6s 5ms/step - loss: 1.7805 - accuracy: 0.3477 - val_loss: 1.7352 - val_accuracy: 0.3661\n",
      "Epoch 8/15\n",
      "1250/1250 [==============================] - 5s 4ms/step - loss: 1.7502 - accuracy: 0.3584 - val_loss: 1.7276 - val_accuracy: 0.3777\n",
      "Epoch 9/15\n",
      "1250/1250 [==============================] - 6s 5ms/step - loss: 1.7311 - accuracy: 0.3685 - val_loss: 1.7064 - val_accuracy: 0.3892\n",
      "Epoch 10/15\n",
      "1250/1250 [==============================] - 6s 4ms/step - loss: 1.7192 - accuracy: 0.3742 - val_loss: 1.6959 - val_accuracy: 0.3978\n",
      "Epoch 11/15\n",
      "1250/1250 [==============================] - 6s 5ms/step - loss: 1.6993 - accuracy: 0.3808 - val_loss: 1.7066 - val_accuracy: 0.3839\n",
      "Epoch 12/15\n",
      "1250/1250 [==============================] - 5s 4ms/step - loss: 1.6832 - accuracy: 0.3891 - val_loss: 1.6785 - val_accuracy: 0.4030\n",
      "Epoch 13/15\n",
      "1250/1250 [==============================] - 5s 4ms/step - loss: 1.6694 - accuracy: 0.3991 - val_loss: 1.6525 - val_accuracy: 0.4129\n",
      "Epoch 14/15\n",
      "1250/1250 [==============================] - 7s 5ms/step - loss: 1.6570 - accuracy: 0.4005 - val_loss: 1.6324 - val_accuracy: 0.4188\n",
      "Epoch 15/15\n",
      "1250/1250 [==============================] - 6s 4ms/step - loss: 1.6527 - accuracy: 0.3997 - val_loss: 1.6629 - val_accuracy: 0.4046\n",
      "79/79 [==============================] - 0s 3ms/step - loss: 1.6370 - accuracy: 0.4105\n",
      "[1.636962652206421, 0.4104999899864197]\n"
     ]
    }
   ],
   "source": [
    "sgd_optimizer = optimizers.SGD(learning_rate=0.01, momentum=0.9)\n",
    "model3.compile(optimizer=sgd_optimizer,\n",
    "              loss='categorical_crossentropy',\n",
    "              metrics=['accuracy'])\n",
    "print(model3.summary())\n",
    "history3  = model3.fit(X_train,y_train,epochs=15,batch_size=32,validation_split=0.2)\n",
    "score3 = model3.evaluate(X_test,y_test,batch_size=128)\n",
    "print(score3)"
   ]
  },
  {
   "cell_type": "code",
   "execution_count": null,
   "metadata": {
    "colab": {
     "base_uri": "https://localhost:8080/"
    },
    "id": "TMHyzjuvsIpl",
    "outputId": "4dcc5748-ef03-489b-c4f4-1c0da86f3eb5"
   },
   "outputs": [
    {
     "data": {
      "text/plain": [
       "(50000, 32, 32, 3)"
      ]
     },
     "execution_count": 71,
     "metadata": {},
     "output_type": "execute_result"
    }
   ],
   "source": [
    "X_train.shape"
   ]
  },
  {
   "cell_type": "code",
   "execution_count": null,
   "metadata": {
    "colab": {
     "base_uri": "https://localhost:8080/"
    },
    "id": "ECq18nUGpY05",
    "outputId": "63ad6829-3fca-4de0-8b51-81362a7d04ba"
   },
   "outputs": [
    {
     "name": "stdout",
     "output_type": "stream",
     "text": [
      "Model: \"sequential_10\"\n",
      "_________________________________________________________________\n",
      " Layer (type)                Output Shape              Param #   \n",
      "=================================================================\n",
      " flatten_11 (Flatten)        (None, 3072)              0         \n",
      "                                                                 \n",
      " dense_32 (Dense)            (None, 256)               786688    \n",
      "                                                                 \n",
      " batch_normalization_1 (Bat  (None, 256)               1024      \n",
      " chNormalization)                                                \n",
      "                                                                 \n",
      " activation_1 (Activation)   (None, 256)               0         \n",
      "                                                                 \n",
      " dense_33 (Dense)            (None, 10)                2570      \n",
      "                                                                 \n",
      "=================================================================\n",
      "Total params: 790282 (3.01 MB)\n",
      "Trainable params: 789770 (3.01 MB)\n",
      "Non-trainable params: 512 (2.00 KB)\n",
      "_________________________________________________________________\n",
      "None\n",
      "Epoch 1/15\n",
      "313/313 [==============================] - 4s 7ms/step - loss: 1.7398 - accuracy: 0.3937 - val_loss: 1.8273 - val_accuracy: 0.3633\n",
      "Epoch 2/15\n",
      "313/313 [==============================] - 2s 5ms/step - loss: 1.5554 - accuracy: 0.4593 - val_loss: 1.8369 - val_accuracy: 0.3696\n",
      "Epoch 3/15\n",
      "313/313 [==============================] - 2s 5ms/step - loss: 1.4874 - accuracy: 0.4831 - val_loss: 1.6273 - val_accuracy: 0.4134\n",
      "Epoch 4/15\n",
      "313/313 [==============================] - 2s 5ms/step - loss: 1.4521 - accuracy: 0.4927 - val_loss: 1.6635 - val_accuracy: 0.4184\n",
      "Epoch 5/15\n",
      "313/313 [==============================] - 2s 6ms/step - loss: 1.4175 - accuracy: 0.5048 - val_loss: 1.6965 - val_accuracy: 0.4008\n",
      "Epoch 6/15\n",
      "313/313 [==============================] - 2s 7ms/step - loss: 1.3947 - accuracy: 0.5125 - val_loss: 1.8659 - val_accuracy: 0.3850\n",
      "Epoch 7/15\n",
      "313/313 [==============================] - 2s 5ms/step - loss: 1.3641 - accuracy: 0.5233 - val_loss: 1.7673 - val_accuracy: 0.3930\n",
      "Epoch 8/15\n",
      "313/313 [==============================] - 2s 5ms/step - loss: 1.3347 - accuracy: 0.5315 - val_loss: 1.7314 - val_accuracy: 0.4113\n",
      "Epoch 9/15\n",
      "313/313 [==============================] - 2s 5ms/step - loss: 1.3013 - accuracy: 0.5443 - val_loss: 1.6492 - val_accuracy: 0.4335\n",
      "Epoch 10/15\n",
      "313/313 [==============================] - 2s 5ms/step - loss: 1.2766 - accuracy: 0.5531 - val_loss: 1.7191 - val_accuracy: 0.4187\n",
      "Epoch 11/15\n",
      "313/313 [==============================] - 2s 5ms/step - loss: 1.2561 - accuracy: 0.5607 - val_loss: 1.7300 - val_accuracy: 0.4207\n",
      "Epoch 12/15\n",
      "313/313 [==============================] - 2s 6ms/step - loss: 1.2457 - accuracy: 0.5631 - val_loss: 1.9348 - val_accuracy: 0.4021\n",
      "Epoch 13/15\n",
      "313/313 [==============================] - 2s 6ms/step - loss: 1.2302 - accuracy: 0.5686 - val_loss: 1.8605 - val_accuracy: 0.4095\n",
      "Epoch 14/15\n",
      "313/313 [==============================] - 2s 6ms/step - loss: 1.2168 - accuracy: 0.5719 - val_loss: 1.6793 - val_accuracy: 0.4348\n",
      "Epoch 15/15\n",
      "313/313 [==============================] - 2s 5ms/step - loss: 1.1958 - accuracy: 0.5775 - val_loss: 1.8075 - val_accuracy: 0.4141\n",
      "79/79 [==============================] - 0s 3ms/step - loss: 1.7979 - accuracy: 0.4188\n",
      "[1.7978681325912476, 0.4187999963760376]\n"
     ]
    }
   ],
   "source": [
    "sgd_optimizer = optimizers.SGD(learning_rate=0.01, momentum=0.9)\n",
    "model4.compile(optimizer=sgd_optimizer,\n",
    "              loss='categorical_crossentropy',\n",
    "              metrics=['accuracy'])\n",
    "print(model4.summary())\n",
    "history4  = model4.fit(X_train,y_train,epochs=15,batch_size=128,validation_split=0.2)\n",
    "score4 = model4.evaluate(X_test,y_test,batch_size=128)\n",
    "print(score4)"
   ]
  },
  {
   "cell_type": "markdown",
   "metadata": {
    "id": "bLVYuSyd8def"
   },
   "source": [
    "# **5. Digit Classification using CNN Architecture for MNIST Dataset**"
   ]
  },
  {
   "cell_type": "code",
   "execution_count": 9,
   "metadata": {
    "id": "-ofznMZJ8cJL"
   },
   "outputs": [],
   "source": [
    "import tensorflow as tf\n",
    "import numpy as np\n",
    "from keras import layers, models\n",
    "from keras.datasets import mnist\n",
    "from keras.utils import to_categorical"
   ]
  },
  {
   "cell_type": "code",
   "execution_count": 10,
   "metadata": {
    "colab": {
     "base_uri": "https://localhost:8080/"
    },
    "id": "TKvXhnboHpad",
    "outputId": "7dcfe164-fd8c-4ea9-c71a-a0a37c7f4e80"
   },
   "outputs": [],
   "source": [
    "(X_train,y_train),(X_test,y_test) = mnist.load_data()"
   ]
  },
  {
   "cell_type": "code",
   "execution_count": 11,
   "metadata": {
    "colab": {
     "base_uri": "https://localhost:8080/"
    },
    "id": "t-B_bjSNHzRT",
    "outputId": "e09e91f3-116f-4158-f699-7dff9accab8b"
   },
   "outputs": [
    {
     "name": "stdout",
     "output_type": "stream",
     "text": [
      "(60000, 28, 28)\n",
      "(60000,)\n"
     ]
    }
   ],
   "source": [
    "print(X_train.shape)\n",
    "print(y_train.shape)"
   ]
  },
  {
   "cell_type": "code",
   "execution_count": 12,
   "metadata": {
    "colab": {
     "base_uri": "https://localhost:8080/",
     "height": 807
    },
    "id": "s3imV-hxs0ZC",
    "outputId": "cad14cb8-c60d-45a5-fe64-2c3ea6c6b68d"
   },
   "outputs": [
    {
     "data": {
      "image/png": "[encoded data removed]",
      "text/plain": [
       "<Figure size 1000x1000 with 9 Axes>"
      ]
     },
     "metadata": {},
     "output_type": "display_data"
    }
   ],
   "source": [
    "import matplotlib.pyplot as plt\n",
    "\n",
    "plt.figure(figsize=(10,10))\n",
    "for i in range(9):\n",
    "    plt.subplot(3,3,i+1)\n",
    "    plt.imshow(X_train[i])\n",
    "    plt.xticks([])\n",
    "    plt.yticks([])"
   ]
  },
  {
   "cell_type": "code",
   "execution_count": 13,
   "metadata": {
    "id": "v2G0XYi_JyRX"
   },
   "outputs": [],
   "source": [
    " #X_train =  X_train.reshape((60000,28,28,1)).astype('float32')/255.0\n",
    " #X_test = X_test.reshape((10000,28,28,1)).astype('float32')/255.0\n",
    "\n",
    " y_train = to_categorical(y_train)\n",
    " y_test = to_categorical(y_test)"
   ]
  },
  {
   "cell_type": "code",
   "execution_count": null,
   "metadata": {
    "colab": {
     "base_uri": "https://localhost:8080/"
    },
    "id": "hExHNjpjYnmO",
    "outputId": "ea25e7a8-782f-4bfa-8352-312da0ae4040"
   },
   "outputs": [
    {
     "name": "stdout",
     "output_type": "stream",
     "text": [
      "Model: \"sequential_1\"\n",
      "_________________________________________________________________\n",
      " Layer (type)                Output Shape              Param #   \n",
      "=================================================================\n",
      " conv2d (Conv2D)             (None, 26, 26, 32)        320       \n",
      "                                                                 \n",
      " max_pooling2d (MaxPooling2D  (None, 13, 13, 32)       0         \n",
      " )                                                               \n",
      "                                                                 \n",
      " conv2d_1 (Conv2D)           (None, 11, 11, 64)        18496     \n",
      "                                                                 \n",
      " max_pooling2d_1 (MaxPooling  (None, 5, 5, 64)         0         \n",
      " 2D)                                                             \n",
      "                                                                 \n",
      " conv2d_2 (Conv2D)           (None, 3, 3, 64)          36928     \n",
      "                                                                 \n",
      " flatten_1 (Flatten)         (None, 576)               0         \n",
      "                                                                 \n",
      " dense_4 (Dense)             (None, 64)                36928     \n",
      "                                                                 \n",
      " dense_5 (Dense)             (None, 10)                650       \n",
      "                                                                 \n",
      "=================================================================\n",
      "Total params: 93,322\n",
      "Trainable params: 93,322\n",
      "Non-trainable params: 0\n",
      "_________________________________________________________________\n",
      "None\n",
      "Epoch 1/15\n",
      "750/750 [==============================] - 18s 24ms/step - loss: 0.2997 - accuracy: 0.9314 - val_loss: 0.0741 - val_accuracy: 0.9768\n",
      "Epoch 2/15\n",
      "750/750 [==============================] - 18s 24ms/step - loss: 0.0642 - accuracy: 0.9808 - val_loss: 0.0574 - val_accuracy: 0.9833\n",
      "Epoch 3/15\n",
      "750/750 [==============================] - ETA: 0s - loss: 0.0473 - accuracy: 0.9850"
     ]
    }
   ],
   "source": [
    "# Build the CNN model\n",
    "model = models.Sequential([\n",
    "    layers.Conv2D(32,(3,3),activation='relu',input_shape=(28,28,1)),\n",
    "    layers.MaxPooling2D((2,2)),\n",
    "    layers.Conv2D(64,(3,3),activation='relu'),\n",
    "    layers.MaxPooling2D((2,2)),\n",
    "    layers.Conv2D(64,(3,3),activation='relu'),\n",
    "    layers.Flatten(),\n",
    "    layers.Dense(64,activation='relu'),\n",
    "    layers.Dense(10,activation='softmax')\n",
    "])\n",
    "model.compile(optimizer='adam',\n",
    "             loss='categorical_crossentropy',\n",
    "             metrics=['accuracy'])\n",
    "print(model.summary())\n",
    "\n",
    "history = model.fit(X_train,y_train,epochs=15,batch_size=64,validation_split=0.2)\n",
    "\n"
   ]
  },
  {
   "cell_type": "code",
   "execution_count": null,
   "metadata": {
    "colab": {
     "base_uri": "https://localhost:8080/"
    },
    "id": "zeTUpiA5nppB",
    "outputId": "7ed88376-0a62-4855-ab52-b1cff8df5c78"
   },
   "outputs": [
    {
     "name": "stdout",
     "output_type": "stream",
     "text": [
      "313/313 [==============================] - 4s 13ms/step - loss: 0.0377 - accuracy: 0.9906\n",
      "Test accuracy: 0.9905999898910522\n"
     ]
    }
   ],
   "source": [
    "\n",
    "# Evaluate the model on the test set\n",
    "test_loss, test_acc = model.evaluate(X_test,y_test)\n",
    "print(f'Test accuracy: {test_acc}')"
   ]
  },
  {
   "cell_type": "code",
   "execution_count": null,
   "metadata": {
    "colab": {
     "base_uri": "https://localhost:8080/",
     "height": 449
    },
    "id": "iQsp2sa1LduU",
    "outputId": "3e1a249e-c00e-4e42-c200-b9bac9a25e48"
   },
   "outputs": [
    {
     "data": {
      "image/png": "[encoded data removed]",
      "text/plain": [
       "<Figure size 640x480 with 1 Axes>"
      ]
     },
     "metadata": {},
     "output_type": "display_data"
    }
   ],
   "source": [
    "import matplotlib.pyplot as plt\n",
    "plt.plot(history.history['accuracy'], label='Training Accuracy')\n",
    "plt.plot(history.history['val_accuracy'], label='Validation Accuracy')\n",
    "plt.xlabel('Epoch')\n",
    "plt.ylabel('Accuracy')\n",
    "plt.legend();"
   ]
  },
  {
   "cell_type": "markdown",
   "metadata": {
    "id": "z4vJPg8CCZHy"
   },
   "source": [
    "# **6. Digit classification using pre-trained networks like VGGnet-19 for MNIST dataset and analyse and visualize performance improvements.**"
   ]
  },
  {
   "cell_type": "code",
   "execution_count": null,
   "metadata": {
    "id": "Ww-b5o_5BfMe"
   },
   "outputs": [],
   "source": [
    "import tensorflow as tf\n",
    "import numpy as np\n",
    "from keras.datasets import mnist\n",
    "from keras.applications import VGG19\n",
    "from keras import layers,models\n",
    "from tensorflow.keras.utils import to_categorical\n"
   ]
  },
  {
   "cell_type": "code",
   "execution_count": null,
   "metadata": {
    "colab": {
     "base_uri": "https://localhost:8080/"
    },
    "id": "V_ijEbqF7xHr",
    "outputId": "145136c2-623a-4f77-ae5c-c6b37a1b9a78"
   },
   "outputs": [
    {
     "name": "stdout",
     "output_type": "stream",
     "text": [
      "Downloading data from https://storage.googleapis.com/tensorflow/tf-keras-datasets/mnist.npz\n",
      "11490434/11490434 [==============================] - 1s 0us/step\n",
      "X_train shape: (60000, 28, 28)\n"
     ]
    }
   ],
   "source": [
    "(X_train, y_train), (X_test, y_test) = mnist.load_data()\n",
    "print(f'X_train shape: {X_train.shape}')"
   ]
  },
  {
   "cell_type": "code",
   "execution_count": null,
   "metadata": {
    "colab": {
     "base_uri": "https://localhost:8080/"
    },
    "id": "bb81boDWGyAJ",
    "outputId": "c51a2386-2f13-4f7b-dc92-6d9e47cca24a"
   },
   "outputs": [
    {
     "name": "stdout",
     "output_type": "stream",
     "text": [
      "X_train shape: (32, 32, 3)\n"
     ]
    }
   ],
   "source": [
    "X_train = np.repeat(tf.image.resize(X_train[...,np.newaxis],(32,32)).numpy(),3,axis=-1)\n",
    "X_test=np.repeat(tf.image.resize(X_test[...,np.newaxis],(32,32)).numpy(),3,axis=-1)\n",
    "print(f'X_train shape: {X_train[0].shape}')"
   ]
  },
  {
   "cell_type": "code",
   "execution_count": null,
   "metadata": {
    "id": "ekQX7SBfHUNY"
   },
   "outputs": [],
   "source": [
    "X_train = X_train.astype('float32')/255\n",
    "X_test = X_test.astype('float32')/255\n",
    "\n",
    "y_train = to_categorical(y_train)\n",
    "y_test = to_categorical(y_test)"
   ]
  },
  {
   "cell_type": "code",
   "execution_count": null,
   "metadata": {
    "colab": {
     "base_uri": "https://localhost:8080/"
    },
    "id": "BzqGo9oFHcQE",
    "outputId": "0682dde9-484b-420b-9635-da49af4981a2"
   },
   "outputs": [
    {
     "name": "stdout",
     "output_type": "stream",
     "text": [
      "Downloading data from https://storage.googleapis.com/tensorflow/keras-applications/vgg19/vgg19_weights_tf_dim_ordering_tf_kernels_notop.h5\n",
      "80134624/80134624 [==============================] - 3s 0us/step\n",
      "Epoch 1/5\n",
      "750/750 [==============================] - 21s 17ms/step - loss: 0.3496 - accuracy: 0.9030 - val_loss: 0.1688 - val_accuracy: 0.9478\n",
      "Epoch 2/5\n",
      "750/750 [==============================] - 12s 16ms/step - loss: 0.1468 - accuracy: 0.9547 - val_loss: 0.1252 - val_accuracy: 0.9608\n",
      "Epoch 3/5\n",
      "750/750 [==============================] - 12s 17ms/step - loss: 0.1208 - accuracy: 0.9615 - val_loss: 0.1032 - val_accuracy: 0.9682\n",
      "Epoch 4/5\n",
      "750/750 [==============================] - 14s 18ms/step - loss: 0.1080 - accuracy: 0.9649 - val_loss: 0.0971 - val_accuracy: 0.9701\n",
      "Epoch 5/5\n",
      "750/750 [==============================] - 12s 16ms/step - loss: 0.0979 - accuracy: 0.9677 - val_loss: 0.0993 - val_accuracy: 0.9692\n",
      "Model: \"sequential\"\n",
      "_________________________________________________________________\n",
      " Layer (type)                Output Shape              Param #   \n",
      "=================================================================\n",
      " vgg19 (Functional)          (None, 1, 1, 512)         20024384  \n",
      "                                                                 \n",
      " flatten (Flatten)           (None, 512)               0         \n",
      "                                                                 \n",
      " dense (Dense)               (None, 256)               131328    \n",
      "                                                                 \n",
      " dense_1 (Dense)             (None, 10)                2570      \n",
      "                                                                 \n",
      "=================================================================\n",
      "Total params: 20158282 (76.90 MB)\n",
      "Trainable params: 133898 (523.04 KB)\n",
      "Non-trainable params: 20024384 (76.39 MB)\n",
      "_________________________________________________________________\n"
     ]
    }
   ],
   "source": [
    "base_model = VGG19(include_top=False,\n",
    "    weights='imagenet',\n",
    "    input_shape=(32,32,3))\n",
    "base_model.trainable = False\n",
    "\n",
    "model = models.Sequential([\n",
    "    base_model,\n",
    "    layers.Flatten(),\n",
    "    layers.Dense(256,activation='relu'),\n",
    "    layers.Dense(10,activation='softmax')])\n",
    "\n",
    "model.compile(optimizer='adam',\n",
    "             loss = 'categorical_crossentropy',\n",
    "             metrics=['accuracy'])\n",
    "\n",
    "history = model.fit(X_train,y_train,\n",
    "                    epochs=5,batch_size=64,\n",
    "                    validation_split=0.2)\n",
    "model.summary()"
   ]
  },
  {
   "cell_type": "code",
   "execution_count": null,
   "metadata": {
    "colab": {
     "base_uri": "https://localhost:8080/"
    },
    "id": "KRzN_88cIJk-",
    "outputId": "8c8d5bc3-dd22-42d5-e45c-69dc39c77954"
   },
   "outputs": [
    {
     "name": "stdout",
     "output_type": "stream",
     "text": [
      "313/313 [==============================] - 4s 12ms/step - loss: 0.1007 - accuracy: 0.9686\n"
     ]
    }
   ],
   "source": [
    "score = model.evaluate(X_test,y_test)"
   ]
  },
  {
   "cell_type": "code",
   "execution_count": null,
   "metadata": {
    "colab": {
     "base_uri": "https://localhost:8080/",
     "height": 449
    },
    "id": "gMIOnTMoVPC9",
    "outputId": "9b9434c7-0011-4187-9b29-a95f3c6e4206"
   },
   "outputs": [
    {
     "data": {
      "image/png": "[encoded data removed]",
      "text/plain": [
       "<Figure size 640x480 with 1 Axes>"
      ]
     },
     "metadata": {},
     "output_type": "display_data"
    }
   ],
   "source": [
    "import matplotlib.pyplot as plt\n",
    "plt.plot(history.history['accuracy'], label='Training Accuracy')\n",
    "plt.plot(history.history['val_accuracy'], label='Validation Accuracy')\n",
    "plt.xlabel('Epoch')\n",
    "plt.ylabel('Accuracy')\n",
    "plt.legend();"
   ]
  },
  {
   "cell_type": "markdown",
   "metadata": {
    "id": "kvIV-yEGq5Ut"
   },
   "source": [
    "# **7. Implement a simple RNN for review classification using IMDB dataset.**"
   ]
  },
  {
   "cell_type": "code",
   "execution_count": null,
   "metadata": {
    "id": "-g3ZJdKVq_5Y"
   },
   "outputs": [],
   "source": [
    "from keras.datasets import imdb\n",
    "import tensorflow as tf\n",
    "from keras import layers,models,Sequential\n",
    "\n",
    "from keras.preprocessing import sequence\n",
    "from keras.utils import pad_sequences"
   ]
  },
  {
   "cell_type": "code",
   "execution_count": null,
   "metadata": {
    "colab": {
     "base_uri": "https://localhost:8080/"
    },
    "id": "gLxzberysIAw",
    "outputId": "962b063b-460e-4b32-8580-3948a3265623"
   },
   "outputs": [
    {
     "name": "stdout",
     "output_type": "stream",
     "text": [
      "Downloading data from https://storage.googleapis.com/tensorflow/tf-keras-datasets/imdb.npz\n",
      "17464789/17464789 [==============================] - 1s 0us/step\n",
      "25000 train sequences\n",
      "25000 test sequences\n"
     ]
    }
   ],
   "source": [
    "max_features = 5000\n",
    "max_words=500\n",
    "(X_train,y_train), (X_test,y_test) = imdb.load_data(maxlen=max_features)\n",
    "print(f'{len(X_train)} train sequences\\n{len(X_test)} test sequences')"
   ]
  },
  {
   "cell_type": "code",
   "execution_count": null,
   "metadata": {
    "colab": {
     "base_uri": "https://localhost:8080/"
    },
    "id": "ZqP2-baDtugX",
    "outputId": "6a256b26-2372-4ff2-aad9-f37fb8118070"
   },
   "outputs": [
    {
     "name": "stdout",
     "output_type": "stream",
     "text": [
      "train data shape:  (25000, 500)\n",
      "test data shape:  (25000, 500)\n"
     ]
    }
   ],
   "source": [
    "# pad sequences to fixed length\n",
    "X_train = sequence.pad_sequences(X_train,maxlen=max_words)\n",
    "X_test = sequence.pad_sequences(X_test,maxlen=max_words)\n",
    "print('train data shape: ',X_train.shape)\n",
    "print('test data shape: ',X_test.shape)"
   ]
  },
  {
   "cell_type": "code",
   "execution_count": null,
   "metadata": {
    "colab": {
     "base_uri": "https://localhost:8080/"
    },
    "id": "h3acy8hfxbsD",
    "outputId": "90e37fb3-55e2-4ae8-f501-2bfbe54496c6"
   },
   "outputs": [
    {
     "name": "stdout",
     "output_type": "stream",
     "text": [
      "Model: \"sequential\"\n",
      "_________________________________________________________________\n",
      " Layer (type)                Output Shape              Param #   \n",
      "=================================================================\n",
      " embedding (Embedding)       (None, 500, 32)           160000    \n",
      "                                                                 \n",
      " simple_rnn (SimpleRNN)      (None, 100)               13300     \n",
      "                                                                 \n",
      " dense (Dense)               (None, 1)                 101       \n",
      "                                                                 \n",
      "=================================================================\n",
      "Total params: 173401 (677.35 KB)\n",
      "Trainable params: 173401 (677.35 KB)\n",
      "Non-trainable params: 0 (0.00 Byte)\n",
      "_________________________________________________________________\n"
     ]
    }
   ],
   "source": [
    "model = models.Sequential()\n",
    "model.add(layers.Embedding(max_features,32,input_length=max_words))\n",
    "model.add(layers.SimpleRNN(100))\n",
    "model.add(layers.Dense(1,activation='sigmoid'))\n",
    "model.summary()"
   ]
  },
  {
   "cell_type": "code",
   "execution_count": null,
   "metadata": {
    "id": "VrIAuHA80mXa"
   },
   "outputs": [],
   "source": [
    "model.compile(optimizer='adam',\n",
    "              loss='binary_crossentropy',\n",
    "              metrics=['accuracy']\n",
    "\n",
    ")"
   ]
  },
  {
   "cell_type": "code",
   "execution_count": null,
   "metadata": {
    "colab": {
     "base_uri": "https://localhost:8080/"
    },
    "id": "bgxAuaJX1Aoq",
    "outputId": "acfb2b49-539b-47f2-ca31-91cc9d74799a"
   },
   "outputs": [
    {
     "name": "stdout",
     "output_type": "stream",
     "text": [
      "Epoch 1/15\n",
      "313/313 [==============================] - 230s 708ms/step - loss: 0.6843 - accuracy: 0.5573 - val_loss: 0.6633 - val_accuracy: 0.6072\n",
      "Epoch 2/15\n",
      "313/313 [==============================] - 202s 643ms/step - loss: 0.6137 - accuracy: 0.6628 - val_loss: 0.5813 - val_accuracy: 0.6786\n",
      "Epoch 3/15\n",
      "313/313 [==============================] - 192s 616ms/step - loss: 0.5331 - accuracy: 0.7311 - val_loss: 0.6571 - val_accuracy: 0.6026\n",
      "Epoch 4/15\n",
      "313/313 [==============================] - 183s 585ms/step - loss: 0.5762 - accuracy: 0.7063 - val_loss: 0.6230 - val_accuracy: 0.6370\n",
      "Epoch 5/15\n",
      "313/313 [==============================] - 186s 594ms/step - loss: 0.5012 - accuracy: 0.7538 - val_loss: 0.5484 - val_accuracy: 0.7418\n",
      "Epoch 6/15\n",
      "313/313 [==============================] - 180s 576ms/step - loss: 0.4430 - accuracy: 0.7979 - val_loss: 0.5692 - val_accuracy: 0.7314\n",
      "Epoch 7/15\n",
      "313/313 [==============================] - 182s 582ms/step - loss: 0.4193 - accuracy: 0.8134 - val_loss: 0.5856 - val_accuracy: 0.7028\n",
      "Epoch 8/15\n",
      "313/313 [==============================] - 176s 562ms/step - loss: 0.3712 - accuracy: 0.8468 - val_loss: 0.5788 - val_accuracy: 0.7420\n",
      "Epoch 9/15\n",
      "313/313 [==============================] - 176s 562ms/step - loss: 0.4679 - accuracy: 0.7779 - val_loss: 0.5971 - val_accuracy: 0.7330\n",
      "Epoch 10/15\n",
      "313/313 [==============================] - 176s 564ms/step - loss: 0.4640 - accuracy: 0.7781 - val_loss: 0.6606 - val_accuracy: 0.6060\n",
      "Epoch 11/15\n",
      "313/313 [==============================] - 179s 571ms/step - loss: 0.5244 - accuracy: 0.7294 - val_loss: 0.9755 - val_accuracy: 0.5750\n",
      "Epoch 12/15\n",
      "313/313 [==============================] - 180s 576ms/step - loss: 0.5606 - accuracy: 0.7060 - val_loss: 0.6358 - val_accuracy: 0.6560\n",
      "Epoch 13/15\n",
      "313/313 [==============================] - 179s 571ms/step - loss: 0.4908 - accuracy: 0.7535 - val_loss: 0.6270 - val_accuracy: 0.6804\n",
      "Epoch 14/15\n",
      "313/313 [==============================] - 170s 544ms/step - loss: 0.4166 - accuracy: 0.8142 - val_loss: 0.6113 - val_accuracy: 0.7260\n",
      "Epoch 15/15\n",
      "313/313 [==============================] - 176s 564ms/step - loss: 0.3945 - accuracy: 0.8316 - val_loss: 0.6510 - val_accuracy: 0.7116\n"
     ]
    }
   ],
   "source": [
    "history = model.fit(X_train,y_train,epochs=15,batch_size=64,validation_split=0.2)"
   ]
  },
  {
   "cell_type": "code",
   "execution_count": null,
   "metadata": {
    "colab": {
     "base_uri": "https://localhost:8080/"
    },
    "id": "YDeW7a3Cr6U3",
    "outputId": "b47f3921-464d-4600-b170-aef0c141fa55"
   },
   "outputs": [
    {
     "name": "stdout",
     "output_type": "stream",
     "text": [
      "782/782 [==============================] - 34s 44ms/step - loss: 0.6362 - accuracy: 0.7154\n"
     ]
    },
    {
     "data": {
      "text/plain": [
       "[0.6362121105194092, 0.7153599858283997]"
      ]
     },
     "execution_count": 8,
     "metadata": {},
     "output_type": "execute_result"
    }
   ],
   "source": [
    "model.evaluate(X_test,y_test)"
   ]
  },
  {
   "cell_type": "markdown",
   "metadata": {
    "id": "napisMsf3kPs"
   },
   "source": [
    "# **8. Analyse and visualize the performance change while using LSTM and GRU instead of simple RNN**"
   ]
  },
  {
   "cell_type": "code",
   "execution_count": null,
   "metadata": {
    "colab": {
     "base_uri": "https://localhost:8080/"
    },
    "id": "6gO8cLgV1Ovh",
    "outputId": "eb04c344-50cd-45bf-d5c5-4ed18abd2940"
   },
   "outputs": [
    {
     "name": "stdout",
     "output_type": "stream",
     "text": [
      "Loading data...\n",
      "Downloading data from https://storage.googleapis.com/tensorflow/tf-keras-datasets/imdb.npz\n",
      "17464789/17464789 [==============================] - 0s 0us/step\n",
      "25000 train sequences\n",
      "25000 test sequences\n",
      "Pad sequences (samples x time)\n",
      "Train data shape: (25000, 500)\n",
      "Test data shape: (25000, 500)\n",
      "Test accuracy (SimpleRNN): 0.8351200222969055\n",
      "Test accuracy (LSTM): 0.8726400136947632\n",
      "Test accuracy (GRU): 0.8887199759483337\n"
     ]
    }
   ],
   "source": [
    "import matplotlib.pyplot as plt\n",
    "import tensorflow as tf\n",
    "from tensorflow.keras.datasets import imdb\n",
    "from tensorflow.keras.preprocessing import sequence\n",
    "from tensorflow.keras.models import Sequential\n",
    "from tensorflow.keras.layers import Embedding, SimpleRNN, LSTM, GRU, Dense\n",
    "\n",
    "# Load the IMDB dataset\n",
    "max_features = 10000  # Number of words to consider as features\n",
    "maxlen = 500  # Cut off reviews after this number of words\n",
    "batch_size = 32\n",
    "\n",
    "print('Loading data...')\n",
    "(train_data, train_labels), (test_data, test_labels) = imdb.load_data(num_words=max_features)\n",
    "print(len(train_data), 'train sequences')\n",
    "print(len(test_data), 'test sequences')\n",
    "\n",
    "# Pad sequences to a fixed length\n",
    "print('Pad sequences (samples x time)')\n",
    "train_data = sequence.pad_sequences(train_data, maxlen=maxlen)\n",
    "test_data = sequence.pad_sequences(test_data, maxlen=maxlen)\n",
    "print('Train data shape:', train_data.shape)\n",
    "print('Test data shape:', test_data.shape)\n",
    "\n",
    "# Define a function to create and train a model\n",
    "def create_and_train_model(model_type):\n",
    "    model = Sequential()\n",
    "\n",
    "    # Add an Embedding layer\n",
    "    model.add(Embedding(max_features, 32))\n",
    "\n",
    "    # Choose the RNN layer based on the provided model type\n",
    "    if model_type == 'SimpleRNN':\n",
    "        model.add(SimpleRNN(32))\n",
    "    elif model_type == 'LSTM':\n",
    "        model.add(LSTM(32))\n",
    "    elif model_type == 'GRU':\n",
    "        model.add(GRU(32))\n",
    "    else:\n",
    "        raise ValueError(\"Invalid model type. Use 'SimpleRNN', 'LSTM', or 'GRU'.\")\n",
    "\n",
    "    # Add a Dense layer\n",
    "    model.add(Dense(1, activation='sigmoid'))\n",
    "\n",
    "    # Compile the model\n",
    "    model.compile(optimizer='rmsprop', loss='binary_crossentropy', metrics=['accuracy'])\n",
    "\n",
    "    # Train the model\n",
    "    history = model.fit(train_data, train_labels, epochs=5, batch_size=batch_size, validation_split=0.2, verbose=0)\n",
    "\n",
    "    return model, history\n",
    "\n",
    "# Create and train models for SimpleRNN, LSTM, and GRU\n",
    "model_rnn, history_rnn = create_and_train_model('SimpleRNN')\n",
    "model_lstm, history_lstm = create_and_train_model('LSTM')\n",
    "model_gru, history_gru = create_and_train_model('GRU')\n",
    "\n",
    "# Evaluate models on the test set\n",
    "results_rnn = model_rnn.evaluate(test_data, test_labels, verbose=0)\n",
    "results_lstm = model_lstm.evaluate(test_data, test_labels, verbose=0)\n",
    "results_gru = model_gru.evaluate(test_data, test_labels, verbose=0)\n",
    "\n",
    "# Print test accuracy\n",
    "print(f'Test accuracy (SimpleRNN): {results_rnn[1]}')\n",
    "print(f'Test accuracy (LSTM): {results_lstm[1]}')\n",
    "print(f'Test accuracy (GRU): {results_gru[1]}')\n",
    "\n"
   ]
  },
  {
   "cell_type": "code",
   "execution_count": null,
   "metadata": {
    "colab": {
     "base_uri": "https://localhost:8080/",
     "height": 487
    },
    "id": "EnrJqVd5A9pP",
    "outputId": "fb5a8f10-0ce2-4ceb-af54-2d1ac218b494"
   },
   "outputs": [
    {
     "data": {
      "image/png": "[encoded data removed]",
      "text/plain": [
       "<Figure size 800x500 with 1 Axes>"
      ]
     },
     "metadata": {},
     "output_type": "display_data"
    }
   ],
   "source": [
    "# Plot validation accuracy\n",
    "plt.figure(figsize=(8, 5))\n",
    "plt.plot(history_rnn.history['val_accuracy'], label='SimpleRNN')\n",
    "plt.plot(history_lstm.history['val_accuracy'], label='LSTM')\n",
    "plt.plot(history_gru.history['val_accuracy'], label='GRU')\n",
    "plt.title('Validation Accuracy Comparison')\n",
    "plt.xlabel('Epochs')\n",
    "plt.ylabel('Accuracy')\n",
    "plt.legend()\n",
    "plt.show()"
   ]
  },
  {
   "cell_type": "code",
   "execution_count": null,
   "metadata": {
    "colab": {
     "base_uri": "https://localhost:8080/"
    },
    "id": "n5bmqy1kfaX4",
    "outputId": "e8be098d-917f-492c-d569-238a408ebcc1"
   },
   "outputs": [
    {
     "name": "stdout",
     "output_type": "stream",
     "text": [
      "782/782 [==============================] - 36s 45ms/step\n",
      "782/782 [==============================] - 6s 8ms/step\n",
      "782/782 [==============================] - 5s 6ms/step\n"
     ]
    }
   ],
   "source": [
    "#predictions\n",
    "predictions_rnn = model_rnn.predict(test_data)\n",
    "predictions_lstm = model_lstm.predict(test_data)\n",
    "predictions_gru = model_gru.predict(test_data)\n",
    "\n"
   ]
  },
  {
   "cell_type": "code",
   "execution_count": null,
   "metadata": {
    "id": "QnHe52tHvrmX"
   },
   "outputs": [],
   "source": [
    "binary_predictions_rnn = (predictions_rnn > 0.5).astype(int)\n",
    "binary_predictions_lstm = (predictions_lstm > 0.5).astype(int)\n",
    "binary_predictions_gru = (predictions_gru > 0.5).astype(int)"
   ]
  },
  {
   "cell_type": "markdown",
   "metadata": {
    "id": "-QdjsH1XilGn"
   },
   "source": [
    "# **9. Implement time series forecasting prediction for NIFTY-50 dataset**.\n"
   ]
  },
  {
   "cell_type": "code",
   "execution_count": null,
   "metadata": {
    "colab": {
     "base_uri": "https://localhost:8080/",
     "height": 292
    },
    "id": "hLrh1zWn9jB6",
    "outputId": "7b60d538-699f-4cd9-a9ed-76ed7440e9c0"
   },
   "outputs": [
    {
     "name": "stderr",
     "output_type": "stream",
     "text": [
      "<ipython-input-2-bbf3a80c323a>:11: UserWarning: Parsing dates in DD/MM/YYYY format when dayfirst=False (the default) was specified. This may lead to inconsistently parsed dates! Specify a format to ensure consistent parsing.\n",
      "  data = pd.read_csv('/content/drive/MyDrive/DL LAB S7/NIFTY.csv', index_col='Date', parse_dates=True)\n"
     ]
    },
    {
     "data": {
      "text/html": [
       "\n",
       "  <div id=\"df-d52e2e72-4307-406f-a207-54f617f322e8\" class=\"colab-df-container\">\n",
       "    <div>\n",
       "<style scoped>\n",
       "    .dataframe tbody tr th:only-of-type {\n",
       "        vertical-align: middle;\n",
       "    }\n",
       "\n",
       "    .dataframe tbody tr th {\n",
       "        vertical-align: top;\n",
       "    }\n",
       "\n",
       "    .dataframe thead th {\n",
       "        text-align: right;\n",
       "    }\n",
       "</style>\n",
       "<table border=\"1\" class=\"dataframe\">\n",
       "  <thead>\n",
       "    <tr style=\"text-align: right;\">\n",
       "      <th></th>\n",
       "      <th>Open</th>\n",
       "      <th>High</th>\n",
       "      <th>Low</th>\n",
       "      <th>Turnover</th>\n",
       "    </tr>\n",
       "    <tr>\n",
       "      <th>Date</th>\n",
       "      <th></th>\n",
       "      <th></th>\n",
       "      <th></th>\n",
       "      <th></th>\n",
       "    </tr>\n",
       "  </thead>\n",
       "  <tbody>\n",
       "    <tr>\n",
       "      <th>2009-02-03</th>\n",
       "      <td>43.19</td>\n",
       "      <td>43.38</td>\n",
       "      <td>41.44</td>\n",
       "      <td>43.17</td>\n",
       "    </tr>\n",
       "    <tr>\n",
       "      <th>2009-03-03</th>\n",
       "      <td>43.17</td>\n",
       "      <td>43.90</td>\n",
       "      <td>41.20</td>\n",
       "      <td>43.89</td>\n",
       "    </tr>\n",
       "    <tr>\n",
       "      <th>2009-04-03</th>\n",
       "      <td>43.89</td>\n",
       "      <td>43.89</td>\n",
       "      <td>42.16</td>\n",
       "      <td>42.52</td>\n",
       "    </tr>\n",
       "    <tr>\n",
       "      <th>2009-05-03</th>\n",
       "      <td>42.52</td>\n",
       "      <td>42.71</td>\n",
       "      <td>40.41</td>\n",
       "      <td>41.49</td>\n",
       "    </tr>\n",
       "    <tr>\n",
       "      <th>2009-06-03</th>\n",
       "      <td>41.49</td>\n",
       "      <td>41.49</td>\n",
       "      <td>37.57</td>\n",
       "      <td>38.16</td>\n",
       "    </tr>\n",
       "  </tbody>\n",
       "</table>\n",
       "</div>\n",
       "    <div class=\"colab-df-buttons\">\n",
       "\n",
       "  <div class=\"colab-df-container\">\n",
       "    <button class=\"colab-df-convert\" onclick=\"convertToInteractive('df-d52e2e72-4307-406f-a207-54f617f322e8')\"\n",
       "            title=\"Convert this dataframe to an interactive table.\"\n",
       "            style=\"display:none;\">\n",
       "\n",
       "  <svg xmlns=\"http://www.w3.org/2000/svg\" height=\"24px\" viewBox=\"0 -960 960 960\">\n",
       "    <path d=\"M120-120v-720h720v720H120Zm60-500h600v-160H180v160Zm220 220h160v-160H400v160Zm0 220h160v-160H400v160ZM180-400h160v-160H180v160Zm440 0h160v-160H620v160ZM180-180h160v-160H180v160Zm440 0h160v-160H620v160Z\"/>\n",
       "  </svg>\n",
       "    </button>\n",
       "\n",
       "  <style>\n",
       "    .colab-df-container {\n",
       "      display:flex;\n",
       "      gap: 12px;\n",
       "    }\n",
       "\n",
       "    .colab-df-convert {\n",
       "      background-color: #E8F0FE;\n",
       "      border: none;\n",
       "      border-radius: 50%;\n",
       "      cursor: pointer;\n",
       "      display: none;\n",
       "      fill: #1967D2;\n",
       "      height: 32px;\n",
       "      padding: 0 0 0 0;\n",
       "      width: 32px;\n",
       "    }\n",
       "\n",
       "    .colab-df-convert:hover {\n",
       "      background-color: #E2EBFA;\n",
       "      box-shadow: 0px 1px 2px rgba(60, 64, 67, 0.3), 0px 1px 3px 1px rgba(60, 64, 67, 0.15);\n",
       "      fill: #174EA6;\n",
       "    }\n",
       "\n",
       "    .colab-df-buttons div {\n",
       "      margin-bottom: 4px;\n",
       "    }\n",
       "\n",
       "    [theme=dark] .colab-df-convert {\n",
       "      background-color: #3B4455;\n",
       "      fill: #D2E3FC;\n",
       "    }\n",
       "\n",
       "    [theme=dark] .colab-df-convert:hover {\n",
       "      background-color: #434B5C;\n",
       "      box-shadow: 0px 1px 3px 1px rgba(0, 0, 0, 0.15);\n",
       "      filter: drop-shadow(0px 1px 2px rgba(0, 0, 0, 0.3));\n",
       "      fill: #FFFFFF;\n",
       "    }\n",
       "  </style>\n",
       "\n",
       "    <script>\n",
       "      const buttonEl =\n",
       "        document.querySelector('#df-d52e2e72-4307-406f-a207-54f617f322e8 button.colab-df-convert');\n",
       "      buttonEl.style.display =\n",
       "        google.colab.kernel.accessAllowed ? 'block' : 'none';\n",
       "\n",
       "      async function convertToInteractive(key) {\n",
       "        const element = document.querySelector('#df-d52e2e72-4307-406f-a207-54f617f322e8');\n",
       "        const dataTable =\n",
       "          await google.colab.kernel.invokeFunction('convertToInteractive',\n",
       "                                                    [key], {});\n",
       "        if (!dataTable) return;\n",
       "\n",
       "        const docLinkHtml = 'Like what you see? Visit the ' +\n",
       "          '<a target=\"_blank\" href=https://colab.research.google.com/notebooks/data_table.ipynb>data table notebook</a>'\n",
       "          + ' to learn more about interactive tables.';\n",
       "        element.innerHTML = '';\n",
       "        dataTable['output_type'] = 'display_data';\n",
       "        await google.colab.output.renderOutput(dataTable, element);\n",
       "        const docLink = document.createElement('div');\n",
       "        docLink.innerHTML = docLinkHtml;\n",
       "        element.appendChild(docLink);\n",
       "      }\n",
       "    </script>\n",
       "  </div>\n",
       "\n",
       "\n",
       "<div id=\"df-9f31c8ef-ae4f-410f-aff2-82863dd52143\">\n",
       "  <button class=\"colab-df-quickchart\" onclick=\"quickchart('df-9f31c8ef-ae4f-410f-aff2-82863dd52143')\"\n",
       "            title=\"Suggest charts\"\n",
       "            style=\"display:none;\">\n",
       "\n",
       "<svg xmlns=\"http://www.w3.org/2000/svg\" height=\"24px\"viewBox=\"0 0 24 24\"\n",
       "     width=\"24px\">\n",
       "    <g>\n",
       "        <path d=\"M19 3H5c-1.1 0-2 .9-2 2v14c0 1.1.9 2 2 2h14c1.1 0 2-.9 2-2V5c0-1.1-.9-2-2-2zM9 17H7v-7h2v7zm4 0h-2V7h2v10zm4 0h-2v-4h2v4z\"/>\n",
       "    </g>\n",
       "</svg>\n",
       "  </button>\n",
       "\n",
       "<style>\n",
       "  .colab-df-quickchart {\n",
       "      --bg-color: #E8F0FE;\n",
       "      --fill-color: #1967D2;\n",
       "      --hover-bg-color: #E2EBFA;\n",
       "      --hover-fill-color: #174EA6;\n",
       "      --disabled-fill-color: #AAA;\n",
       "      --disabled-bg-color: #DDD;\n",
       "  }\n",
       "\n",
       "  [theme=dark] .colab-df-quickchart {\n",
       "      --bg-color: #3B4455;\n",
       "      --fill-color: #D2E3FC;\n",
       "      --hover-bg-color: #434B5C;\n",
       "      --hover-fill-color: #FFFFFF;\n",
       "      --disabled-bg-color: #3B4455;\n",
       "      --disabled-fill-color: #666;\n",
       "  }\n",
       "\n",
       "  .colab-df-quickchart {\n",
       "    background-color: var(--bg-color);\n",
       "    border: none;\n",
       "    border-radius: 50%;\n",
       "    cursor: pointer;\n",
       "    display: none;\n",
       "    fill: var(--fill-color);\n",
       "    height: 32px;\n",
       "    padding: 0;\n",
       "    width: 32px;\n",
       "  }\n",
       "\n",
       "  .colab-df-quickchart:hover {\n",
       "    background-color: var(--hover-bg-color);\n",
       "    box-shadow: 0 1px 2px rgba(60, 64, 67, 0.3), 0 1px 3px 1px rgba(60, 64, 67, 0.15);\n",
       "    fill: var(--button-hover-fill-color);\n",
       "  }\n",
       "\n",
       "  .colab-df-quickchart-complete:disabled,\n",
       "  .colab-df-quickchart-complete:disabled:hover {\n",
       "    background-color: var(--disabled-bg-color);\n",
       "    fill: var(--disabled-fill-color);\n",
       "    box-shadow: none;\n",
       "  }\n",
       "\n",
       "  .colab-df-spinner {\n",
       "    border: 2px solid var(--fill-color);\n",
       "    border-color: transparent;\n",
       "    border-bottom-color: var(--fill-color);\n",
       "    animation:\n",
       "      spin 1s steps(1) infinite;\n",
       "  }\n",
       "\n",
       "  @keyframes spin {\n",
       "    0% {\n",
       "      border-color: transparent;\n",
       "      border-bottom-color: var(--fill-color);\n",
       "      border-left-color: var(--fill-color);\n",
       "    }\n",
       "    20% {\n",
       "      border-color: transparent;\n",
       "      border-left-color: var(--fill-color);\n",
       "      border-top-color: var(--fill-color);\n",
       "    }\n",
       "    30% {\n",
       "      border-color: transparent;\n",
       "      border-left-color: var(--fill-color);\n",
       "      border-top-color: var(--fill-color);\n",
       "      border-right-color: var(--fill-color);\n",
       "    }\n",
       "    40% {\n",
       "      border-color: transparent;\n",
       "      border-right-color: var(--fill-color);\n",
       "      border-top-color: var(--fill-color);\n",
       "    }\n",
       "    60% {\n",
       "      border-color: transparent;\n",
       "      border-right-color: var(--fill-color);\n",
       "    }\n",
       "    80% {\n",
       "      border-color: transparent;\n",
       "      border-right-color: var(--fill-color);\n",
       "      border-bottom-color: var(--fill-color);\n",
       "    }\n",
       "    90% {\n",
       "      border-color: transparent;\n",
       "      border-bottom-color: var(--fill-color);\n",
       "    }\n",
       "  }\n",
       "</style>\n",
       "\n",
       "  <script>\n",
       "    async function quickchart(key) {\n",
       "      const quickchartButtonEl =\n",
       "        document.querySelector('#' + key + ' button');\n",
       "      quickchartButtonEl.disabled = true;  // To prevent multiple clicks.\n",
       "      quickchartButtonEl.classList.add('colab-df-spinner');\n",
       "      try {\n",
       "        const charts = await google.colab.kernel.invokeFunction(\n",
       "            'suggestCharts', [key], {});\n",
       "      } catch (error) {\n",
       "        console.error('Error during call to suggestCharts:', error);\n",
       "      }\n",
       "      quickchartButtonEl.classList.remove('colab-df-spinner');\n",
       "      quickchartButtonEl.classList.add('colab-df-quickchart-complete');\n",
       "    }\n",
       "    (() => {\n",
       "      let quickchartButtonEl =\n",
       "        document.querySelector('#df-9f31c8ef-ae4f-410f-aff2-82863dd52143 button');\n",
       "      quickchartButtonEl.style.display =\n",
       "        google.colab.kernel.accessAllowed ? 'block' : 'none';\n",
       "    })();\n",
       "  </script>\n",
       "</div>\n",
       "    </div>\n",
       "  </div>\n"
      ],
      "text/plain": [
       "             Open   High    Low  Turnover\n",
       "Date                                     \n",
       "2009-02-03  43.19  43.38  41.44     43.17\n",
       "2009-03-03  43.17  43.90  41.20     43.89\n",
       "2009-04-03  43.89  43.89  42.16     42.52\n",
       "2009-05-03  42.52  42.71  40.41     41.49\n",
       "2009-06-03  41.49  41.49  37.57     38.16"
      ]
     },
     "execution_count": 2,
     "metadata": {},
     "output_type": "execute_result"
    }
   ],
   "source": [
    "import pandas as pd\n",
    "import numpy as np\n",
    "from keras.models import Sequential\n",
    "from keras.layers import Dense, SimpleRNN\n",
    "from keras import layers\n",
    "from sklearn.preprocessing import MinMaxScaler\n",
    "from keras.preprocessing.sequence import TimeseriesGenerator\n",
    "import matplotlib.pyplot as plt\n",
    "\n",
    "# Load the dataset\n",
    "data = pd.read_csv('/content/drive/MyDrive/DL LAB S7/NIFTY.csv', index_col='Date', parse_dates=True)\n",
    "data.head()"
   ]
  },
  {
   "cell_type": "code",
   "execution_count": null,
   "metadata": {
    "colab": {
     "base_uri": "https://localhost:8080/"
    },
    "id": "AfreaN7GgJkq",
    "outputId": "2e3bb907-c610-4c4d-bacf-181555b71e92"
   },
   "outputs": [
    {
     "data": {
      "text/plain": [
       "array([[0.44754647, 0.42956052, 0.4862573 , 0.4472731 ],\n",
       "       [0.4472731 , 0.43641819, 0.4826868 , 0.45711454],\n",
       "       [0.45711454, 0.43628631, 0.4969688 , 0.43838846],\n",
       "       ...,\n",
       "       [0.45325314, 0.43285747, 0.46777253, 0.42099508],\n",
       "       [0.42099508, 0.40760278, 0.45973891, 0.4029866 ],\n",
       "       [0.4029866 , 0.38406251, 0.41347119, 0.38217605]])"
      ]
     },
     "execution_count": 3,
     "metadata": {},
     "output_type": "execute_result"
    }
   ],
   "source": [
    "# Normalize the data\n",
    "scaler = MinMaxScaler(feature_range=(0, 1))\n",
    "data_scaled = scaler.fit_transform(data)\n",
    "data_scaled"
   ]
  },
  {
   "cell_type": "code",
   "execution_count": null,
   "metadata": {
    "id": "mX0RHGmagJvL"
   },
   "outputs": [],
   "source": [
    "\n",
    "# Split the data into training and testing sets\n",
    "n = int(len(data_scaled) * 0.8)\n",
    "train_data = data_scaled[:n]\n",
    "test_data = data_scaled[n:]\n",
    "\n",
    "# Define the parameters\n",
    "n_input = 3\n",
    "n_features = 4"
   ]
  },
  {
   "cell_type": "code",
   "execution_count": null,
   "metadata": {
    "id": "VSNIwzYggJ6m"
   },
   "outputs": [],
   "source": [
    "# Create time series generators\n",
    "generator_train = TimeseriesGenerator(train_data, train_data, length=n_input)\n",
    "generator_test = TimeseriesGenerator(test_data, test_data, length=n_input)"
   ]
  },
  {
   "cell_type": "code",
   "execution_count": null,
   "metadata": {
    "id": "vF55ZOKxcJ07"
   },
   "outputs": [],
   "source": [
    "generator_train"
   ]
  },
  {
   "cell_type": "code",
   "execution_count": null,
   "metadata": {
    "colab": {
     "base_uri": "https://localhost:8080/"
    },
    "id": "10rqqQP8foEz",
    "outputId": "7c0ea08f-f936-4039-95f7-920777814e31"
   },
   "outputs": [
    {
     "name": "stderr",
     "output_type": "stream",
     "text": [
      "WARNING:tensorflow:Layer lstm_3 will not use cuDNN kernels since it doesn't meet the criteria. It will use a generic GPU kernel as fallback when running on GPU.\n"
     ]
    }
   ],
   "source": [
    "# Build the RNN model\n",
    "model = Sequential()\n",
    "model.add(layers.LSTM(50, activation='relu'))\n",
    "model.add(Dense(4))\n",
    "model.compile(optimizer='adam',\n",
    "              loss='mean_squared_error',\n",
    "              metrics=['accuracy'])\n",
    "\n",
    "# Display the model summary\n",
    "#print(model.summary())"
   ]
  },
  {
   "cell_type": "code",
   "execution_count": null,
   "metadata": {
    "colab": {
     "base_uri": "https://localhost:8080/"
    },
    "id": "SjL9NqchhHHZ",
    "outputId": "8410b915-7175-45c7-a922-7ccd8418457a"
   },
   "outputs": [
    {
     "name": "stdout",
     "output_type": "stream",
     "text": [
      "Epoch 1/50\n",
      "18/18 [==============================] - 3s 8ms/step - loss: 0.0231 - accuracy: 0.7943\n",
      "Epoch 2/50\n",
      "18/18 [==============================] - 0s 9ms/step - loss: 0.0122 - accuracy: 0.5610\n",
      "Epoch 3/50\n",
      "18/18 [==============================] - 0s 8ms/step - loss: 0.0061 - accuracy: 0.8210\n",
      "Epoch 4/50\n",
      "18/18 [==============================] - 0s 9ms/step - loss: 0.0043 - accuracy: 0.7993\n",
      "Epoch 5/50\n",
      "18/18 [==============================] - 0s 8ms/step - loss: 0.0033 - accuracy: 0.5769\n",
      "Epoch 6/50\n",
      "18/18 [==============================] - 0s 9ms/step - loss: 0.0021 - accuracy: 0.6623\n",
      "Epoch 7/50\n",
      "18/18 [==============================] - 0s 9ms/step - loss: 0.0012 - accuracy: 0.6275\n",
      "Epoch 8/50\n",
      "18/18 [==============================] - 0s 9ms/step - loss: 7.9858e-04 - accuracy: 0.6193\n",
      "Epoch 9/50\n",
      "18/18 [==============================] - 0s 9ms/step - loss: 5.5675e-04 - accuracy: 0.6582\n",
      "Epoch 10/50\n",
      "18/18 [==============================] - 0s 8ms/step - loss: 4.7393e-04 - accuracy: 0.7396\n",
      "Epoch 11/50\n",
      "18/18 [==============================] - 0s 9ms/step - loss: 4.5552e-04 - accuracy: 0.8210\n",
      "Epoch 12/50\n",
      "18/18 [==============================] - 0s 8ms/step - loss: 4.4585e-04 - accuracy: 0.8210\n",
      "Epoch 13/50\n",
      "18/18 [==============================] - 0s 8ms/step - loss: 4.4323e-04 - accuracy: 0.8210\n",
      "Epoch 14/50\n",
      "18/18 [==============================] - 0s 8ms/step - loss: 4.4086e-04 - accuracy: 0.8210\n",
      "Epoch 15/50\n",
      "18/18 [==============================] - 0s 9ms/step - loss: 4.3824e-04 - accuracy: 0.8210\n",
      "Epoch 16/50\n",
      "18/18 [==============================] - 0s 9ms/step - loss: 4.3746e-04 - accuracy: 0.8210\n",
      "Epoch 17/50\n",
      "18/18 [==============================] - 0s 8ms/step - loss: 4.3473e-04 - accuracy: 0.8210\n",
      "Epoch 18/50\n",
      "18/18 [==============================] - 0s 8ms/step - loss: 4.3178e-04 - accuracy: 0.8210\n",
      "Epoch 19/50\n",
      "18/18 [==============================] - 0s 8ms/step - loss: 4.2906e-04 - accuracy: 0.8210\n",
      "Epoch 20/50\n",
      "18/18 [==============================] - 0s 8ms/step - loss: 4.2552e-04 - accuracy: 0.8210\n",
      "Epoch 21/50\n",
      "18/18 [==============================] - 0s 9ms/step - loss: 4.2158e-04 - accuracy: 0.8210\n",
      "Epoch 22/50\n",
      "18/18 [==============================] - 0s 8ms/step - loss: 4.1901e-04 - accuracy: 0.8210\n",
      "Epoch 23/50\n",
      "18/18 [==============================] - 0s 10ms/step - loss: 4.1837e-04 - accuracy: 0.8210\n",
      "Epoch 24/50\n",
      "18/18 [==============================] - 0s 9ms/step - loss: 4.1206e-04 - accuracy: 0.8210\n",
      "Epoch 25/50\n",
      "18/18 [==============================] - 0s 9ms/step - loss: 4.0912e-04 - accuracy: 0.8210\n",
      "Epoch 26/50\n",
      "18/18 [==============================] - 0s 9ms/step - loss: 4.0587e-04 - accuracy: 0.8210\n",
      "Epoch 27/50\n",
      "18/18 [==============================] - 0s 9ms/step - loss: 4.0258e-04 - accuracy: 0.8210\n",
      "Epoch 28/50\n",
      "18/18 [==============================] - 0s 10ms/step - loss: 3.9702e-04 - accuracy: 0.8210\n",
      "Epoch 29/50\n",
      "18/18 [==============================] - 0s 16ms/step - loss: 3.9084e-04 - accuracy: 0.8210\n",
      "Epoch 30/50\n",
      "18/18 [==============================] - 0s 17ms/step - loss: 3.8693e-04 - accuracy: 0.8210\n",
      "Epoch 31/50\n",
      "18/18 [==============================] - 0s 17ms/step - loss: 3.8199e-04 - accuracy: 0.8210\n",
      "Epoch 32/50\n",
      "18/18 [==============================] - 0s 16ms/step - loss: 3.7553e-04 - accuracy: 0.8210\n",
      "Epoch 33/50\n",
      "18/18 [==============================] - 0s 15ms/step - loss: 3.7054e-04 - accuracy: 0.8210\n",
      "Epoch 34/50\n",
      "18/18 [==============================] - 0s 17ms/step - loss: 3.6589e-04 - accuracy: 0.8210\n",
      "Epoch 35/50\n",
      "18/18 [==============================] - 0s 15ms/step - loss: 3.5845e-04 - accuracy: 0.8210\n",
      "Epoch 36/50\n",
      "18/18 [==============================] - 0s 18ms/step - loss: 3.5287e-04 - accuracy: 0.8210\n",
      "Epoch 37/50\n",
      "18/18 [==============================] - 0s 16ms/step - loss: 3.4579e-04 - accuracy: 0.8210\n",
      "Epoch 38/50\n",
      "18/18 [==============================] - 0s 16ms/step - loss: 3.4101e-04 - accuracy: 0.8210\n",
      "Epoch 39/50\n",
      "18/18 [==============================] - 0s 15ms/step - loss: 3.3782e-04 - accuracy: 0.8210\n",
      "Epoch 40/50\n",
      "18/18 [==============================] - 0s 15ms/step - loss: 3.3334e-04 - accuracy: 0.8210\n",
      "Epoch 41/50\n",
      "18/18 [==============================] - 0s 16ms/step - loss: 3.2200e-04 - accuracy: 0.8210\n",
      "Epoch 42/50\n",
      "18/18 [==============================] - 0s 8ms/step - loss: 3.1677e-04 - accuracy: 0.8210\n",
      "Epoch 43/50\n",
      "18/18 [==============================] - 0s 8ms/step - loss: 3.1096e-04 - accuracy: 0.8210\n",
      "Epoch 44/50\n",
      "18/18 [==============================] - 0s 9ms/step - loss: 3.0622e-04 - accuracy: 0.8210\n",
      "Epoch 45/50\n",
      "18/18 [==============================] - 0s 8ms/step - loss: 3.0203e-04 - accuracy: 0.8210\n",
      "Epoch 46/50\n",
      "18/18 [==============================] - 0s 9ms/step - loss: 2.9733e-04 - accuracy: 0.8210\n",
      "Epoch 47/50\n",
      "18/18 [==============================] - 0s 8ms/step - loss: 2.9241e-04 - accuracy: 0.8210\n",
      "Epoch 48/50\n",
      "18/18 [==============================] - 0s 8ms/step - loss: 2.8899e-04 - accuracy: 0.8210\n",
      "Epoch 49/50\n",
      "18/18 [==============================] - 0s 9ms/step - loss: 2.8227e-04 - accuracy: 0.8210\n",
      "Epoch 50/50\n",
      "18/18 [==============================] - 0s 8ms/step - loss: 2.7949e-04 - accuracy: 0.8210\n"
     ]
    },
    {
     "data": {
      "text/plain": [
       "<keras.src.callbacks.History at 0x7da7101907c0>"
      ]
     },
     "execution_count": 11,
     "metadata": {},
     "output_type": "execute_result"
    }
   ],
   "source": [
    "# Train the model\n",
    "model.fit(generator_train, epochs=50)"
   ]
  },
  {
   "cell_type": "code",
   "execution_count": null,
   "metadata": {
    "colab": {
     "base_uri": "https://localhost:8080/"
    },
    "id": "7jWe3n4IhWsx",
    "outputId": "4233e4af-9055-4dcd-b86c-81e291486eb6"
   },
   "outputs": [
    {
     "name": "stdout",
     "output_type": "stream",
     "text": [
      "5/5 [==============================] - 0s 4ms/step - loss: 6.9764e-04 - accuracy: 0.5572\n",
      "Test Loss: [0.0006976441945880651, 0.5571687817573547]\n"
     ]
    }
   ],
   "source": [
    "# Evaluate the model on the test set\n",
    "test_loss = model.evaluate(generator_test)\n",
    "print(f'Test Loss: {test_loss}')\n"
   ]
  },
  {
   "cell_type": "code",
   "execution_count": null,
   "metadata": {
    "colab": {
     "base_uri": "https://localhost:8080/"
    },
    "id": "-Z2u_5zph2wx",
    "outputId": "bfd34f2d-6ada-42b6-d0f4-93221e77bedd"
   },
   "outputs": [
    {
     "name": "stdout",
     "output_type": "stream",
     "text": [
      "5/5 [==============================] - 0s 5ms/step\n"
     ]
    },
    {
     "data": {
      "text/plain": [
       "array([[0.11591443, 0.113791  , 0.1265604 , 0.11653556],\n",
       "       [0.12039977, 0.11581577, 0.13094965, 0.124541  ],\n",
       "       [0.11268471, 0.1103717 , 0.12600249, 0.11601022],\n",
       "       ...,\n",
       "       [0.41041532, 0.4203346 , 0.43214414, 0.41003355],\n",
       "       [0.42140007, 0.4339668 , 0.45157477, 0.4275948 ],\n",
       "       [0.40219554, 0.41673452, 0.44278127, 0.41219273]], dtype=float32)"
      ]
     },
     "execution_count": 13,
     "metadata": {},
     "output_type": "execute_result"
    }
   ],
   "source": [
    "\n",
    "# Make predictions on the test set\n",
    "predictions = model.predict(generator_test)\n",
    "predictions"
   ]
  },
  {
   "cell_type": "code",
   "execution_count": null,
   "metadata": {
    "colab": {
     "base_uri": "https://localhost:8080/"
    },
    "id": "itItpPjziKas",
    "outputId": "24fbfde2-d3d7-47a5-87ec-48b115f6c11a"
   },
   "outputs": [
    {
     "data": {
      "text/plain": [
       "array([[19.465 , 24.035 , 15.2625, 17.7725],\n",
       "       [17.7725, 20.4225, 15.15  , 19.23  ],\n",
       "       [19.23  , 19.23  , 16.5675, 17.8825],\n",
       "       ...,\n",
       "       [43.6075, 43.63  , 40.1975, 41.2475],\n",
       "       [41.2475, 41.715 , 39.6575, 39.93  ],\n",
       "       [39.93  , 39.93  , 36.5475, 38.4075]])"
      ]
     },
     "execution_count": 15,
     "metadata": {},
     "output_type": "execute_result"
    }
   ],
   "source": [
    "\n",
    "# Inverse transform the predictions and actual values to the original scale\n",
    "predictions_original = scaler.inverse_transform(predictions)\n",
    "test_data_original = scaler.inverse_transform(test_data[n_input:])\n",
    "test_data_original"
   ]
  },
  {
   "cell_type": "code",
   "execution_count": null,
   "metadata": {
    "colab": {
     "base_uri": "https://localhost:8080/",
     "height": 510
    },
    "id": "gKgQmxD5iQXb",
    "outputId": "d022d829-00c6-46db-bbbc-c954ab489275"
   },
   "outputs": [
    {
     "data": {
      "image/png": "[encoded data removed]",
      "text/plain": [
       "<Figure size 1500x600 with 1 Axes>"
      ]
     },
     "metadata": {},
     "output_type": "display_data"
    }
   ],
   "source": [
    "\n",
    "# Plot the results\n",
    "plt.figure(figsize=(15, 6))\n",
    "plt.plot(data.index[n + n_input:], test_data_original, label='Actual Prices', color='blue')\n",
    "plt.plot(data.index[n + n_input:], predictions_original, label='Predicted Prices', color='orange')\n",
    "plt.title('NIFTY-50 Stock Price Prediction using RNN')\n",
    "plt.xlabel('Date')\n",
    "plt.ylabel('Stock Price (Close)')\n",
    "plt.legend()\n",
    "plt.show()"
   ]
  },
  {
   "cell_type": "code",
   "execution_count": null,
   "metadata": {
    "id": "GCpWeYCs8yMp"
   },
   "outputs": [],
   "source": []
  }
 ],
 "metadata": {
  "accelerator": "GPU",
  "colab": {
   "provenance": []
  },
  "kernelspec": {
   "display_name": "Python 3 (ipykernel)",
   "language": "python",
   "name": "python3"
  },
  "language_info": {
   "codemirror_mode": {
    "name": "ipython",
    "version": 3
   },
   "file_extension": ".py",
   "mimetype": "text/x-python",
   "name": "python",
   "nbconvert_exporter": "python",
   "pygments_lexer": "ipython3",
   "version": "3.11.5"
  }
 },
 "nbformat": 4,
 "nbformat_minor": 1
}
